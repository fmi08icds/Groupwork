{
 "metadata": {
  "kernelspec": {
   "language": "python",
   "display_name": "Python 3",
   "name": "python3"
  },
  "language_info": {
   "pygments_lexer": "ipython3",
   "nbconvert_exporter": "python",
   "version": "3.6.4",
   "file_extension": ".py",
   "codemirror_mode": {
    "name": "ipython",
    "version": 3
   },
   "name": "python",
   "mimetype": "text/x-python"
  }
 },
 "nbformat_minor": 4,
 "nbformat": 4,
 "cells": [
  {
   "cell_type": "markdown",
   "source": [
    "Exploratory Data Analysis"
   ],
   "metadata": {
    "id": "HhqX1lFyju1d"
   }
  },
  {
   "cell_type": "code",
   "source": [
    "# Importing required libraries\n",
    "import pandas as pd\n",
    "import matplotlib.pyplot as plt"
   ],
   "metadata": {
    "id": "xBTG5DeNXTAN",
    "execution": {
     "iopub.status.busy": "2022-08-09T11:14:30.858526Z",
     "iopub.execute_input": "2022-08-09T11:14:30.859071Z",
     "iopub.status.idle": "2022-08-09T11:14:32.417563Z",
     "shell.execute_reply.started": "2022-08-09T11:14:30.859029Z",
     "shell.execute_reply": "2022-08-09T11:14:32.416022Z"
    },
    "trusted": true
   },
   "execution_count": null,
   "outputs": []
  },
  {
   "cell_type": "code",
   "source": [
    "# Reading the data and labels from CSV files\n",
    "dataset = pd.read_csv(\"./data/data.csv\")\n",
    "lb = pd.read_csv(\"./data/labels.csv\")"
   ],
   "metadata": {
    "id": "anqYkgcVU83y",
    "execution": {
     "iopub.status.busy": "2022-08-09T11:15:40.169457Z",
     "iopub.execute_input": "2022-08-09T11:15:40.169913Z",
     "iopub.status.idle": "2022-08-09T11:15:52.672181Z",
     "shell.execute_reply.started": "2022-08-09T11:15:40.169876Z",
     "shell.execute_reply": "2022-08-09T11:15:52.670834Z"
    },
    "trusted": true
   },
   "execution_count": null,
   "outputs": []
  },
  {
   "cell_type": "code",
   "source": [
    "# Merging the dataset and labels into a single dataframe\n",
    "df = pd.merge(lb,dataset)\n",
    "df.head()"
   ],
   "metadata": {
    "id": "ptB3aTUDkmud",
    "executionInfo": {
     "status": "ok",
     "timestamp": 1655460090642,
     "user_tz": -330,
     "elapsed": 877,
     "user": {
      "displayName": "Shibu Mohapatra",
      "userId": "07626953913233812311"
     }
    },
    "outputId": "0ea9e352-fbba-4a1b-8e38-9ce9d48c8c1a",
    "execution": {
     "iopub.status.busy": "2022-08-09T11:15:56.971248Z",
     "iopub.execute_input": "2022-08-09T11:15:56.972006Z",
     "iopub.status.idle": "2022-08-09T11:15:57.232444Z",
     "shell.execute_reply.started": "2022-08-09T11:15:56.971965Z",
     "shell.execute_reply": "2022-08-09T11:15:57.231273Z"
    },
    "trusted": true
   },
   "execution_count": null,
   "outputs": []
  },
  {
   "cell_type": "code",
   "source": [
    "# Checking the number of null values in each column\n",
    "df.isnull().sum()"
   ],
   "metadata": {
    "id": "xgOWU47vml6J",
    "executionInfo": {
     "status": "ok",
     "timestamp": 1655460090643,
     "user_tz": -330,
     "elapsed": 11,
     "user": {
      "displayName": "Shibu Mohapatra",
      "userId": "07626953913233812311"
     }
    },
    "outputId": "1d5d136b-a5e1-4087-c593-41422041b81a",
    "execution": {
     "iopub.status.busy": "2022-08-09T11:16:00.388863Z",
     "iopub.execute_input": "2022-08-09T11:16:00.389264Z",
     "iopub.status.idle": "2022-08-09T11:16:00.492235Z",
     "shell.execute_reply.started": "2022-08-09T11:16:00.38923Z",
     "shell.execute_reply": "2022-08-09T11:16:00.490993Z"
    },
    "trusted": true
   },
   "execution_count": null,
   "outputs": []
  },
  {
   "cell_type": "code",
   "source": [
    "# Generating descriptive statistics that summarize the central tendency, dispersion, and shape of a dataset’s distribution\n",
    "df.describe()"
   ],
   "metadata": {
    "id": "Gt6FZ4Humowd",
    "executionInfo": {
     "status": "ok",
     "timestamp": 1655460139567,
     "user_tz": -330,
     "elapsed": 48930,
     "user": {
      "displayName": "Shibu Mohapatra",
      "userId": "07626953913233812311"
     }
    },
    "outputId": "95895d6c-7db2-4690-cac8-67f234ea36d2",
    "execution": {
     "iopub.status.busy": "2022-08-09T11:16:03.283037Z",
     "iopub.execute_input": "2022-08-09T11:16:03.283956Z",
     "iopub.status.idle": "2022-08-09T11:16:47.175683Z",
     "shell.execute_reply.started": "2022-08-09T11:16:03.283898Z",
     "shell.execute_reply": "2022-08-09T11:16:47.17442Z"
    },
    "trusted": true
   },
   "execution_count": null,
   "outputs": []
  },
  {
   "cell_type": "code",
   "source": [
    "# removes the 'Unnamed: 0' and 'Class' columns from the dataframe\n",
    "df_tsne_data = df\n",
    "non_num = ['Unnamed: 0','Class']\n",
    "df_tsne_data = df_tsne_data.drop(non_num, axis=1)\n",
    "df_tsne_data"
   ],
   "metadata": {
    "id": "bc1yog35rkPK",
    "executionInfo": {
     "status": "ok",
     "timestamp": 1655460243829,
     "user_tz": -330,
     "elapsed": 11,
     "user": {
      "displayName": "Shibu Mohapatra",
      "userId": "07626953913233812311"
     }
    },
    "outputId": "b1ae7f37-f132-4752-b77c-6756e3b3bdd0",
    "execution": {
     "iopub.status.busy": "2022-08-09T11:18:54.792212Z",
     "iopub.execute_input": "2022-08-09T11:18:54.792656Z",
     "iopub.status.idle": "2022-08-09T11:18:54.875434Z",
     "shell.execute_reply.started": "2022-08-09T11:18:54.792619Z",
     "shell.execute_reply": "2022-08-09T11:18:54.874266Z"
    },
    "trusted": true
   },
   "execution_count": null,
   "outputs": []
  },
  {
   "cell_type": "code",
   "execution_count": null,
   "outputs": [],
   "source": [
    "# Checking if the columns are numerical or not\n",
    "for col in df_tsne_data.columns:\n",
    "    try:\n",
    "        _ = df_tsne_data[col].astype(float)\n",
    "        print(f'Column {col} is numeric')\n",
    "    except ValueError:\n",
    "        print(f'Column {col} is not numeric')"
   ],
   "metadata": {
    "collapsed": false
   }
  },
  {
   "cell_type": "code",
   "source": [
    "# import t-SNE from sklearn\n",
    "from sklearn.manifold import TSNE\n",
    "m = TSNE(learning_rate=200, perplexity=100)"
   ],
   "metadata": {
    "id": "r4oxIdeGrn6q",
    "execution": {
     "iopub.status.busy": "2022-08-09T11:18:58.092454Z",
     "iopub.execute_input": "2022-08-09T11:18:58.093102Z",
     "iopub.status.idle": "2022-08-09T11:18:58.183283Z",
     "shell.execute_reply.started": "2022-08-09T11:18:58.09306Z",
     "shell.execute_reply": "2022-08-09T11:18:58.181885Z"
    },
    "trusted": true
   },
   "execution_count": null,
   "outputs": []
  },
  {
   "cell_type": "code",
   "source": [
    "# t-SNE features are computed and a subset is printed\n",
    "tnse_features = m.fit_transform(df_tsne_data)\n",
    "tnse_features[1:6,:]"
   ],
   "metadata": {
    "id": "R5bqq-DPrpe1",
    "executionInfo": {
     "status": "ok",
     "timestamp": 1655460252805,
     "user_tz": -330,
     "elapsed": 8985,
     "user": {
      "displayName": "Shibu Mohapatra",
      "userId": "07626953913233812311"
     }
    },
    "outputId": "f651071c-3450-4aa7-f4bc-7f2784935108",
    "execution": {
     "iopub.status.busy": "2022-08-09T11:19:00.774919Z",
     "iopub.execute_input": "2022-08-09T11:19:00.775349Z",
     "iopub.status.idle": "2022-08-09T11:19:05.420823Z",
     "shell.execute_reply.started": "2022-08-09T11:19:00.77531Z",
     "shell.execute_reply": "2022-08-09T11:19:05.419783Z"
    },
    "trusted": true
   },
   "execution_count": null,
   "outputs": []
  },
  {
   "cell_type": "code",
   "source": [
    "#Two new columns 'x' and 'y' are added to the dataframe. They correspond to the t-SNE features.\n",
    "df_tsne_data['x'] = tnse_features[:,0]\n",
    "df_tsne_data['y'] = tnse_features[:,1]\n",
    "# plots the t-SNE features\n",
    "import seaborn as sns\n",
    "sns.scatterplot(x='x',y='y',data=df_tsne_data)\n",
    "plt.show()"
   ],
   "metadata": {
    "id": "5wNJ7TIvrrG9",
    "executionInfo": {
     "status": "ok",
     "timestamp": 1655460252806,
     "user_tz": -330,
     "elapsed": 37,
     "user": {
      "displayName": "Shibu Mohapatra",
      "userId": "07626953913233812311"
     }
    },
    "outputId": "d7a00ec7-5e2b-44fe-827a-45f8c0a28a7f",
    "execution": {
     "iopub.status.busy": "2022-08-09T11:19:05.495515Z",
     "iopub.execute_input": "2022-08-09T11:19:05.496823Z",
     "iopub.status.idle": "2022-08-09T11:19:05.724097Z",
     "shell.execute_reply.started": "2022-08-09T11:19:05.496779Z",
     "shell.execute_reply": "2022-08-09T11:19:05.722715Z"
    },
    "trusted": true
   },
   "execution_count": null,
   "outputs": []
  },
  {
   "cell_type": "code",
   "execution_count": null,
   "outputs": [],
   "source": [
    "df['Class']"
   ],
   "metadata": {
    "collapsed": false
   }
  },
  {
   "cell_type": "code",
   "source": [
    "# The 'Class' column is added back to the dataframe under a new name 'cancer'\n",
    "df_tsne_data['cancer']=df['Class']\n",
    "\n",
    "# The t-SNE features are plotted again, but this time the points are colored based on the 'cancer' class\n",
    "sns.scatterplot(x='x',y='y',hue = 'cancer', data= df_tsne_data)\n",
    "plt.show()"
   ],
   "metadata": {
    "id": "M9MaRR-Mrtpz",
    "executionInfo": {
     "status": "ok",
     "timestamp": 1655460253927,
     "user_tz": -330,
     "elapsed": 1154,
     "user": {
      "displayName": "Shibu Mohapatra",
      "userId": "07626953913233812311"
     }
    },
    "outputId": "8c866ed0-c18c-4d37-d93e-7370935760f6",
    "execution": {
     "iopub.status.busy": "2022-08-09T11:19:10.449067Z",
     "iopub.execute_input": "2022-08-09T11:19:10.449459Z",
     "iopub.status.idle": "2022-08-09T11:19:10.828746Z",
     "shell.execute_reply.started": "2022-08-09T11:19:10.449427Z",
     "shell.execute_reply": "2022-08-09T11:19:10.827572Z"
    },
    "trusted": true
   },
   "execution_count": null,
   "outputs": []
  },
  {
   "cell_type": "code",
   "execution_count": null,
   "outputs": [],
   "source": [],
   "metadata": {
    "collapsed": false
   }
  }
 ]
}
