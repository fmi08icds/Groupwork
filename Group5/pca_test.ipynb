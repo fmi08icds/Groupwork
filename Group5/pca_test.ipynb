{
 "cells": [
  {
   "cell_type": "code",
   "execution_count": 1,
   "metadata": {
    "collapsed": true,
    "ExecuteTime": {
     "end_time": "2023-06-19T17:37:00.930995Z",
     "start_time": "2023-06-19T17:36:44.971385Z"
    }
   },
   "outputs": [
    {
     "name": "stdout",
     "output_type": "stream",
     "text": [
      "Start by importing a random sample of the whole dataset..\n",
      "Okay\n",
      "df:\n",
      "             gene_15109  gene_14676  gene_11257  gene_6041  gene_12083  \\\n",
      "sample_526    8.929889    1.764516    2.962216  10.515641    9.637741   \n",
      "sample_139    8.399060    2.550975    3.961697   9.919151    9.669324   \n",
      "sample_116    8.483082    1.728008    7.071205  10.330390    9.521720   \n",
      "sample_212    8.743905    3.589847    5.430225  10.768350    9.992896   \n",
      "sample_770    9.193084    3.234655    6.582518  10.642341    9.706399   \n",
      "sample_177    8.962986    4.437581    7.562181  10.332473    9.950404   \n",
      "sample_215    9.501222    2.476278    5.024009  10.937572    9.532551   \n",
      "sample_367    9.986169    5.797547    4.550962  11.036668    9.659209   \n",
      "\n",
      "            gene_12961  gene_15865  gene_17566  gene_3019  gene_7463  ...  \\\n",
      "sample_526    7.198239    9.724778    4.444879  10.086813   9.304623  ...   \n",
      "sample_139    7.894442    3.185930    2.215741   9.310295  10.147014  ...   \n",
      "sample_116    7.468388    4.210272    8.473730  12.148747   9.489712  ...   \n",
      "sample_212    7.963590    9.600474    5.057632   9.665117   9.707364  ...   \n",
      "sample_770    7.457471    8.299016    4.186532   9.992358   9.340783  ...   \n",
      "sample_177    7.101387   11.034765    6.334933  10.705460   9.352174  ...   \n",
      "sample_215    7.204385   11.900878    5.245325  11.497867   8.624967  ...   \n",
      "sample_367    7.196282    8.540457    5.141457  11.099538   9.519503  ...   \n",
      "\n",
      "            gene_12221  gene_11393  gene_7197  gene_10899  gene_15946  \\\n",
      "sample_526    9.986397    6.907864   0.485015    0.000000    0.000000   \n",
      "sample_139   10.691656   11.931557   0.000000    0.000000    1.596983   \n",
      "sample_116   10.330760    3.829393   0.000000    0.000000    0.731878   \n",
      "sample_212    9.898734    6.601324   0.000000    0.000000    1.154907   \n",
      "sample_770   10.332417    9.266585   1.102457    0.819505    1.338909   \n",
      "sample_177    9.729507    5.966147   0.000000    0.000000    1.569734   \n",
      "sample_215    9.746746    8.928764   0.000000    0.000000    1.166651   \n",
      "sample_367    9.424026   10.011842   0.509341    0.000000    0.509341   \n",
      "\n",
      "            gene_17397  gene_2916  gene_11141  gene_2732  gene_7666  \n",
      "sample_526    5.613296   3.905543   10.504571   4.016568   0.000000  \n",
      "sample_139    1.147372   0.000000   10.801805   4.952874   0.000000  \n",
      "sample_116    5.861881   0.411860    9.055995   4.894512   1.728008  \n",
      "sample_212    4.422617   0.862193   10.989324   3.974612   0.000000  \n",
      "sample_770    2.667597   3.174822   10.610582   7.774609   0.000000  \n",
      "sample_177    4.884759   0.577344   10.423683   5.501162   0.577344  \n",
      "sample_215    2.364460   0.500802    9.732037   6.788542   0.000000  \n",
      "sample_367    1.823953   0.000000   10.191306   6.773390   0.000000  \n",
      "\n",
      "[8 rows x 50 columns]\n",
      "Preprocessing..\n",
      "cleaned data:\n",
      "             gene_15109  gene_14676  gene_11257  gene_6041  gene_12083  \\\n",
      "sample_526   -0.179772   -1.027847   -1.526983  -0.122121   -0.406091   \n",
      "sample_139   -1.183901   -0.463709   -0.899156  -1.752384   -0.225546   \n",
      "sample_116   -1.024962   -1.054035    1.054089  -0.628428   -1.069307   \n",
      "sample_212   -0.531583    0.281490    0.023303   0.568556    1.624109   \n",
      "sample_770    0.318095    0.026705    0.747119   0.224161   -0.013612   \n",
      "sample_177   -0.117165    0.889581    1.362497  -0.622736    1.381211   \n",
      "sample_215    0.900976   -0.517290   -0.231862   1.031057   -1.007395   \n",
      "sample_367    1.818313    1.865106   -0.529008   1.301895   -0.283368   \n",
      "\n",
      "            gene_12961  gene_15865  gene_17566  gene_3019  gene_7463  ...  \\\n",
      "sample_526   -0.715609    0.456280   -0.386315  -0.489776  -0.306666  ...   \n",
      "sample_139    1.384021   -1.655654   -1.629585  -1.287993   1.663169  ...   \n",
      "sample_116    0.099115   -1.324809    1.860719   1.629777   0.126142  ...   \n",
      "sample_212    1.592560    0.416132   -0.044561  -0.923255   0.635099  ...   \n",
      "sample_770    0.066192   -0.004217   -0.530405  -0.586870  -0.222111  ...   \n",
      "sample_177   -1.007696    0.879382    0.667835   0.146159  -0.195474  ...   \n",
      "sample_215   -0.697072    1.159122    0.060122   0.960709  -1.895964  ...   \n",
      "sample_367   -0.721509    0.073765    0.002191   0.551250   0.195805  ...   \n",
      "\n",
      "            gene_12221  gene_11393  gene_7197  gene_10899  gene_15946  \\\n",
      "sample_526   -0.075980   -0.396270   0.547472   -0.353553   -1.815740   \n",
      "sample_139    1.645172    1.550531  -0.643718   -0.353553    1.059382   \n",
      "sample_116    0.764422   -1.589252  -0.643718   -0.353553   -0.498106   \n",
      "sample_212   -0.289916   -0.515062  -0.643718   -0.353553    0.263493   \n",
      "sample_770    0.768466    0.517790   2.063903    2.474874    0.594760   \n",
      "sample_177   -0.702908   -0.761208  -0.643718   -0.353553    1.010324   \n",
      "sample_215   -0.660836    0.386877  -0.643718   -0.353553    0.284636   \n",
      "sample_367   -1.448420    0.806595   0.607218   -0.353553   -0.898749   \n",
      "\n",
      "            gene_17397  gene_2916  gene_11141  gene_2732  gene_7666  \n",
      "sample_526    1.110154   1.820063    0.343752  -1.125242  -0.467911  \n",
      "sample_139   -1.350259  -0.787091    0.816986  -0.453307  -0.467911  \n",
      "sample_116    1.247108  -0.512153   -1.962558  -0.495190   2.337922  \n",
      "sample_212    0.454173  -0.211532    1.115538  -1.155351  -0.467911  \n",
      "sample_770   -0.512721   1.332268    0.512535   1.571695  -0.467911  \n",
      "sample_177    0.708781  -0.401684    0.214969  -0.059831   0.469545  \n",
      "sample_215   -0.679728  -0.452780   -0.886217   0.864050  -0.467911  \n",
      "sample_367   -0.977510  -0.787091   -0.155004   0.853176  -0.467911  \n",
      "\n",
      "[8 rows x 49 columns]\n"
     ]
    }
   ],
   "source": [
    "from sklearn.datasets import load_breast_cancer\n",
    "import numpy as np\n",
    "import pandas as pd\n",
    "\n",
    "breast = load_breast_cancer()\n",
    "breast_data = breast.data\n",
    "breast_labels = breast.target\n",
    "labels = np.reshape(breast_labels, (569, 1))\n",
    "final_breast_data = np.concatenate([breast_data,labels],axis=1)\n",
    "breast_dataset = pd.DataFrame(final_breast_data)\n",
    "print(breast_dataset)"
   ]
  },
  {
   "cell_type": "code",
   "execution_count": 5,
   "outputs": [
    {
     "name": "stdout",
     "output_type": "stream",
     "text": [
      "Okay\n"
     ]
    }
   ],
   "source": [
    "features = breast.feature_names\n",
    "features"
   ],
   "metadata": {
    "collapsed": false,
    "ExecuteTime": {
     "end_time": "2023-06-19T17:37:29.228807Z",
     "start_time": "2023-06-19T17:37:27.315352Z"
    }
   }
  },
  {
   "cell_type": "code",
   "execution_count": 6,
   "outputs": [
    {
     "name": "stdout",
     "output_type": "stream",
     "text": [
      "PCA with 3 components..\n",
      "eigenvalues:\n",
      " [12.96004134+0.j  9.81148931+0.j  8.66250435+0.j]\n"
     ]
    }
   ],
   "source": [
    "features_labels = np.append(features,'label')\n",
    "breast_dataset.columns = features_labels\n",
    "breast_dataset"
   ],
   "metadata": {
    "collapsed": false,
    "ExecuteTime": {
     "end_time": "2023-06-19T17:37:31.699539Z",
     "start_time": "2023-06-19T17:37:31.694934Z"
    }
   }
  },
  {
   "cell_type": "code",
   "execution_count": 7,
   "outputs": [
    {
     "name": "stdout",
     "output_type": "stream",
     "text": [
      "eigenvectors with shape (49, 3)\n"
     ]
    }
   ],
   "source": [
    "breast_dataset['label'].replace(0, 'Benign',inplace=True)\n",
    "breast_dataset['label'].replace(1, 'Malignant',inplace=True)\n",
    "breast_dataset.head()"
   ],
   "metadata": {
    "collapsed": false,
    "ExecuteTime": {
     "end_time": "2023-06-19T17:37:33.230752Z",
     "start_time": "2023-06-19T17:37:33.226036Z"
    }
   }
  },
  {
   "cell_type": "code",
   "execution_count": 8,
   "outputs": [
    {
     "name": "stdout",
     "output_type": "stream",
     "text": [
      "[[ 0.97543454+0.j -0.05286239+0.j -2.04613398+0.j]\n",
      " [ 7.05024214+0.j  2.08866146+0.j  3.29607296+0.j]\n",
      " [ 2.34877086+0.j -6.20768777+0.j -0.62966877+0.j]\n",
      " [ 0.46044265+0.j  1.10160459+0.j -4.19620239+0.j]\n",
      " [-1.4139679 +0.j  4.74659566+0.j  0.04407224+0.j]\n",
      " [-2.32858486+0.j  0.28961807+0.j -2.54821738+0.j]\n",
      " [-2.60757061+0.j -1.08225058+0.j  1.89917324+0.j]\n",
      " [-4.48476682+0.j -0.88367905+0.j  4.18090407+0.j]]\n"
     ]
    }
   ],
   "source": [
    "from sklearn.preprocessing import StandardScaler\n",
    "x = breast_dataset.loc[0:5, features].values\n",
    "x_std = StandardScaler().fit_transform(x) # normalizing the features\n",
    "df = breast_dataset.loc[0:5, features]\n",
    "t_test = (df - df.mean(axis=0)) / df.std(axis=0)"
   ],
   "metadata": {
    "collapsed": false,
    "ExecuteTime": {
     "end_time": "2023-06-19T17:37:43.066186Z",
     "start_time": "2023-06-19T17:37:43.061128Z"
    }
   }
  },
  {
   "cell_type": "code",
   "execution_count": 9,
   "outputs": [
    {
     "name": "stdout",
     "output_type": "stream",
     "text": [
      "Apply components to data (projection)..\n",
      "(8, 49)\n",
      "(49, 3)\n",
      "Projected data:\n",
      " [[ 0.97543454+0.j -0.05286239+0.j -2.04613398+0.j]\n",
      " [ 7.05024214+0.j  2.08866146+0.j  3.29607296+0.j]\n",
      " [ 2.34877086+0.j -6.20768777+0.j -0.62966877+0.j]\n",
      " [ 0.46044265+0.j  1.10160459+0.j -4.19620239+0.j]\n",
      " [-1.4139679 +0.j  4.74659566+0.j  0.04407224+0.j]\n",
      " [-2.32858486+0.j  0.28961807+0.j -2.54821738+0.j]\n",
      " [-2.60757061+0.j -1.08225058+0.j  1.89917324+0.j]\n",
      " [-4.48476682+0.j -0.88367905+0.j  4.18090407+0.j]]\n",
      "FIN\n"
     ]
    }
   ],
   "source": [
    "x_std\n"
   ],
   "metadata": {
    "collapsed": false,
    "ExecuteTime": {
     "end_time": "2023-06-19T17:37:47.234396Z",
     "start_time": "2023-06-19T17:37:47.230273Z"
    }
   }
  },
  {
   "cell_type": "code",
   "execution_count": 1,
   "outputs": [],
   "source": [
    "np.mean(x_std),np.std(x_std)"
   ],
   "metadata": {
    "collapsed": false
   }
  },
  {
   "cell_type": "code",
   "execution_count": 1,
   "outputs": [],
   "source": [
    "tt = x_std - t_test\n",
    "tt"
   ],
   "metadata": {
    "collapsed": false,
    "ExecuteTime": {
     "end_time": "2023-06-19T13:43:54.399619Z",
     "start_time": "2023-06-19T13:43:54.395218Z"
    }
   }
  },
  {
   "cell_type": "code",
   "execution_count": 1,
   "outputs": [],
   "source": [
    "np.mean(t_test.values),np.std(t_test.values)"
   ],
   "metadata": {
    "collapsed": false,
    "ExecuteTime": {
     "end_time": "2023-06-19T13:43:54.415704Z",
     "start_time": "2023-06-19T13:43:54.399100Z"
    }
   }
  },
  {
   "cell_type": "code",
   "execution_count": 1,
   "outputs": [],
   "source": [
    "t_test.mean()"
   ],
   "metadata": {
    "collapsed": false,
    "ExecuteTime": {
     "end_time": "2023-06-19T13:43:54.431853Z",
     "start_time": "2023-06-19T13:43:54.403107Z"
    }
   }
  },
  {
   "cell_type": "code",
   "execution_count": 1,
   "outputs": [],
   "source": [],
   "metadata": {
    "collapsed": false,
    "ExecuteTime": {
     "end_time": "2023-06-19T13:43:54.432198Z",
     "start_time": "2023-06-19T13:43:54.416020Z"
    }
   }
  }
 ],
 "metadata": {
  "kernelspec": {
   "display_name": "Python 3",
   "language": "python",
   "name": "python3"
  },
  "language_info": {
   "codemirror_mode": {
    "name": "ipython",
    "version": 2
   },
   "file_extension": ".py",
   "mimetype": "text/x-python",
   "name": "python",
   "nbconvert_exporter": "python",
   "pygments_lexer": "ipython2",
   "version": "2.7.6"
  }
 },
 "nbformat": 4,
 "nbformat_minor": 0
}
