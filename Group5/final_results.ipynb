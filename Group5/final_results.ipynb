{
 "cells": [
  {
   "attachments": {},
   "cell_type": "markdown",
   "metadata": {},
   "source": [
    "# Group 5: Implementing Principal Component Analysis\n",
    "  \n",
    "### Authors \n",
    "- Hagen, Paula\n",
    "- Huhle, Paul Moritz\n",
    "- Int-Veen, Harpreet\n",
    "- Kaviapoor Esfahani, Sepideh\n",
    "- Kühnel, Paul (Group leader)\n",
    "- Schuster, Karoline\n",
    "\n",
    "\n",
    "### Outline\n",
    "1. Load and prepare data\n",
    "2. Apply own PCA on data\n",
    "3. Compare results with PCA libraries\n",
    "    - pca\n",
    "    - sklearn\n",
    "    - statsmodels\n",
    "4. Compare results with tSNE\n",
    "5. Use results for classification"
   ]
  },
  {
   "attachments": {},
   "cell_type": "markdown",
   "metadata": {},
   "source": [
    "   \n",
    "## 1. Load and prepare data\n",
    "In this section, we use our own functions from dataimport.py, data_cleaning.py and transpose_data.py. In the end, we will have a (labeled) test set and an (unlabeled) training set."
   ]
  },
  {
   "cell_type": "code",
   "execution_count": null,
   "metadata": {},
   "outputs": [],
   "source": [
    "#Code"
   ]
  },
  {
   "attachments": {},
   "cell_type": "markdown",
   "metadata": {},
   "source": [
    "\n",
    "## 2. Apply own PCA on data\n",
    "You can find our own PCA implementation in the file our_pca.py. Here we apply it to the genetic data."
   ]
  },
  {
   "cell_type": "code",
   "execution_count": null,
   "metadata": {},
   "outputs": [],
   "source": [
    "#Code"
   ]
  },
  {
   "attachments": {},
   "cell_type": "markdown",
   "metadata": {},
   "source": [
    "   \n",
    "## 3. Compare results with PCA libraries\n",
    "In this section, we compare the results from our own implementation with the results obtained from three PCA libraries:\n",
    "- pca\n",
    "- sklearn\n",
    "- statsmodels"
   ]
  },
  {
   "attachments": {},
   "cell_type": "markdown",
   "metadata": {},
   "source": [
    "### Results compared with pca library"
   ]
  },
  {
   "cell_type": "code",
   "execution_count": null,
   "metadata": {},
   "outputs": [],
   "source": [
    "#Code"
   ]
  },
  {
   "attachments": {},
   "cell_type": "markdown",
   "metadata": {},
   "source": [
    "### Results compared with sklearn library"
   ]
  },
  {
   "cell_type": "code",
   "execution_count": null,
   "metadata": {},
   "outputs": [],
   "source": [
    "#Code"
   ]
  },
  {
   "attachments": {},
   "cell_type": "markdown",
   "metadata": {},
   "source": [
    "### Results compared with statsmodels library"
   ]
  },
  {
   "cell_type": "code",
   "execution_count": null,
   "metadata": {},
   "outputs": [],
   "source": [
    "#Code"
   ]
  },
  {
   "attachments": {},
   "cell_type": "markdown",
   "metadata": {},
   "source": [
    "   \n",
    "## 4. Compare results with tSNE\n",
    "In this section, we will see, if we PCA was the right technique for us or whether another dimension reduction method (tSNE) would actually perform much better on the dataset."
   ]
  },
  {
   "cell_type": "code",
   "execution_count": null,
   "metadata": {},
   "outputs": [],
   "source": [
    "#Code"
   ]
  },
  {
   "attachments": {},
   "cell_type": "markdown",
   "metadata": {},
   "source": [
    "   \n",
    "## 5. Use results for classification\n",
    "In this section, we will see, whether our extracted components can be used to classify subjects into different cancer types."
   ]
  },
  {
   "cell_type": "code",
   "execution_count": null,
   "metadata": {},
   "outputs": [],
   "source": [
    "#Code"
   ]
  },
  {
   "cell_type": "code",
   "execution_count": null,
   "metadata": {},
   "outputs": [],
   "source": []
  }
 ],
 "metadata": {
  "kernelspec": {
   "display_name": "ICDS",
   "language": "python",
   "name": "python3"
  },
  "language_info": {
   "name": "python",
   "version": "3.11.3"
  },
  "orig_nbformat": 4
 },
 "nbformat": 4,
 "nbformat_minor": 2
}
