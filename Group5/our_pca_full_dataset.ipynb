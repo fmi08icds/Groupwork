{
 "cells": [
  {
   "cell_type": "code",
   "execution_count": 1,
   "metadata": {
    "collapsed": true,
    "ExecuteTime": {
     "end_time": "2023-06-26T17:02:36.380285Z",
     "start_time": "2023-06-26T17:02:29.931414Z"
    }
   },
   "outputs": [
    {
     "data": {
      "text/plain": "    Class  gene_0    gene_1    gene_2    gene_3     gene_4  gene_5    gene_6  \\\n0    PRAD     0.0  2.017209  3.265527  5.478487  10.431999     0.0  7.175175   \n1    LUAD     0.0  0.592732  1.588421  7.586157   9.623011     0.0  6.816049   \n2    PRAD     0.0  3.511759  4.327199  6.881787   9.870730     0.0  6.972130   \n3    PRAD     0.0  3.663618  4.507649  6.659068  10.196184     0.0  7.843375   \n4    BRCA     0.0  2.655741  2.821547  6.539454   9.738265     0.0  6.566967   \n..    ...     ...       ...       ...       ...        ...     ...       ...   \n796  BRCA     0.0  1.865642  2.718197  7.350099  10.006003     0.0  6.764792   \n797  LUAD     0.0  3.942955  4.453807  6.346597  10.056868     0.0  7.320331   \n798  COAD     0.0  3.249582  3.707492  8.185901   9.504082     0.0  7.536589   \n799  PRAD     0.0  2.590339  2.787976  7.318624   9.987136     0.0  9.213464   \n800  PRAD     0.0  2.325242  3.805932  6.530246   9.560367     0.0  7.957027   \n\n       gene_7  gene_8  ...  gene_20521  gene_20522  gene_20523  gene_20524  \\\n0    0.591871     0.0  ...    4.926711    8.210257    9.723516    7.220030   \n1    0.000000     0.0  ...    4.593372    7.323865    9.740931    6.256586   \n2    0.452595     0.0  ...    5.125213    8.127123   10.908640    5.401607   \n3    0.434882     0.0  ...    6.076566    8.792959   10.141520    8.942805   \n4    0.360982     0.0  ...    5.996032    8.891425   10.373790    7.181162   \n..        ...     ...  ...         ...         ...         ...         ...   \n796  0.496922     0.0  ...    6.088133    9.118313   10.004852    4.484415   \n797  0.000000     0.0  ...    6.371876    9.623335    9.823921    6.555327   \n798  1.811101     0.0  ...    5.719386    8.610704   10.485517    3.589763   \n799  0.000000     0.0  ...    5.785237    8.605387   11.004677    4.745888   \n800  0.000000     0.0  ...    6.403075    8.594354   10.243079    9.139459   \n\n     gene_20525  gene_20526  gene_20527  gene_20528  gene_20529  gene_20530  \n0      9.119813   12.003135    9.650743    8.921326    5.286759    0.000000  \n1      8.381612   12.674552   10.517059    9.397854    2.094168    0.000000  \n2      9.911597    9.045255    9.788359   10.090470    1.683023    0.000000  \n3      9.601208   11.392682    9.694814    9.684365    3.292001    0.000000  \n4      9.846910   11.922439    9.217749    9.461191    5.110372    0.000000  \n..          ...         ...         ...         ...         ...         ...  \n796    9.614701   12.031267    9.813063   10.092770    8.819269    0.000000  \n797    9.064002   11.633422   10.317266    8.745983    9.659081    0.000000  \n798    9.350636   12.180944   10.681194    9.466711    4.677458    0.586693  \n799    9.626383   11.198279   10.335513   10.400581    5.718751    0.000000  \n800   10.102934   11.641081   10.607358    9.844794    4.550716    0.000000  \n\n[801 rows x 20532 columns]",
      "text/html": "<div>\n<style scoped>\n    .dataframe tbody tr th:only-of-type {\n        vertical-align: middle;\n    }\n\n    .dataframe tbody tr th {\n        vertical-align: top;\n    }\n\n    .dataframe thead th {\n        text-align: right;\n    }\n</style>\n<table border=\"1\" class=\"dataframe\">\n  <thead>\n    <tr style=\"text-align: right;\">\n      <th></th>\n      <th>Class</th>\n      <th>gene_0</th>\n      <th>gene_1</th>\n      <th>gene_2</th>\n      <th>gene_3</th>\n      <th>gene_4</th>\n      <th>gene_5</th>\n      <th>gene_6</th>\n      <th>gene_7</th>\n      <th>gene_8</th>\n      <th>...</th>\n      <th>gene_20521</th>\n      <th>gene_20522</th>\n      <th>gene_20523</th>\n      <th>gene_20524</th>\n      <th>gene_20525</th>\n      <th>gene_20526</th>\n      <th>gene_20527</th>\n      <th>gene_20528</th>\n      <th>gene_20529</th>\n      <th>gene_20530</th>\n    </tr>\n  </thead>\n  <tbody>\n    <tr>\n      <th>0</th>\n      <td>PRAD</td>\n      <td>0.0</td>\n      <td>2.017209</td>\n      <td>3.265527</td>\n      <td>5.478487</td>\n      <td>10.431999</td>\n      <td>0.0</td>\n      <td>7.175175</td>\n      <td>0.591871</td>\n      <td>0.0</td>\n      <td>...</td>\n      <td>4.926711</td>\n      <td>8.210257</td>\n      <td>9.723516</td>\n      <td>7.220030</td>\n      <td>9.119813</td>\n      <td>12.003135</td>\n      <td>9.650743</td>\n      <td>8.921326</td>\n      <td>5.286759</td>\n      <td>0.000000</td>\n    </tr>\n    <tr>\n      <th>1</th>\n      <td>LUAD</td>\n      <td>0.0</td>\n      <td>0.592732</td>\n      <td>1.588421</td>\n      <td>7.586157</td>\n      <td>9.623011</td>\n      <td>0.0</td>\n      <td>6.816049</td>\n      <td>0.000000</td>\n      <td>0.0</td>\n      <td>...</td>\n      <td>4.593372</td>\n      <td>7.323865</td>\n      <td>9.740931</td>\n      <td>6.256586</td>\n      <td>8.381612</td>\n      <td>12.674552</td>\n      <td>10.517059</td>\n      <td>9.397854</td>\n      <td>2.094168</td>\n      <td>0.000000</td>\n    </tr>\n    <tr>\n      <th>2</th>\n      <td>PRAD</td>\n      <td>0.0</td>\n      <td>3.511759</td>\n      <td>4.327199</td>\n      <td>6.881787</td>\n      <td>9.870730</td>\n      <td>0.0</td>\n      <td>6.972130</td>\n      <td>0.452595</td>\n      <td>0.0</td>\n      <td>...</td>\n      <td>5.125213</td>\n      <td>8.127123</td>\n      <td>10.908640</td>\n      <td>5.401607</td>\n      <td>9.911597</td>\n      <td>9.045255</td>\n      <td>9.788359</td>\n      <td>10.090470</td>\n      <td>1.683023</td>\n      <td>0.000000</td>\n    </tr>\n    <tr>\n      <th>3</th>\n      <td>PRAD</td>\n      <td>0.0</td>\n      <td>3.663618</td>\n      <td>4.507649</td>\n      <td>6.659068</td>\n      <td>10.196184</td>\n      <td>0.0</td>\n      <td>7.843375</td>\n      <td>0.434882</td>\n      <td>0.0</td>\n      <td>...</td>\n      <td>6.076566</td>\n      <td>8.792959</td>\n      <td>10.141520</td>\n      <td>8.942805</td>\n      <td>9.601208</td>\n      <td>11.392682</td>\n      <td>9.694814</td>\n      <td>9.684365</td>\n      <td>3.292001</td>\n      <td>0.000000</td>\n    </tr>\n    <tr>\n      <th>4</th>\n      <td>BRCA</td>\n      <td>0.0</td>\n      <td>2.655741</td>\n      <td>2.821547</td>\n      <td>6.539454</td>\n      <td>9.738265</td>\n      <td>0.0</td>\n      <td>6.566967</td>\n      <td>0.360982</td>\n      <td>0.0</td>\n      <td>...</td>\n      <td>5.996032</td>\n      <td>8.891425</td>\n      <td>10.373790</td>\n      <td>7.181162</td>\n      <td>9.846910</td>\n      <td>11.922439</td>\n      <td>9.217749</td>\n      <td>9.461191</td>\n      <td>5.110372</td>\n      <td>0.000000</td>\n    </tr>\n    <tr>\n      <th>...</th>\n      <td>...</td>\n      <td>...</td>\n      <td>...</td>\n      <td>...</td>\n      <td>...</td>\n      <td>...</td>\n      <td>...</td>\n      <td>...</td>\n      <td>...</td>\n      <td>...</td>\n      <td>...</td>\n      <td>...</td>\n      <td>...</td>\n      <td>...</td>\n      <td>...</td>\n      <td>...</td>\n      <td>...</td>\n      <td>...</td>\n      <td>...</td>\n      <td>...</td>\n      <td>...</td>\n    </tr>\n    <tr>\n      <th>796</th>\n      <td>BRCA</td>\n      <td>0.0</td>\n      <td>1.865642</td>\n      <td>2.718197</td>\n      <td>7.350099</td>\n      <td>10.006003</td>\n      <td>0.0</td>\n      <td>6.764792</td>\n      <td>0.496922</td>\n      <td>0.0</td>\n      <td>...</td>\n      <td>6.088133</td>\n      <td>9.118313</td>\n      <td>10.004852</td>\n      <td>4.484415</td>\n      <td>9.614701</td>\n      <td>12.031267</td>\n      <td>9.813063</td>\n      <td>10.092770</td>\n      <td>8.819269</td>\n      <td>0.000000</td>\n    </tr>\n    <tr>\n      <th>797</th>\n      <td>LUAD</td>\n      <td>0.0</td>\n      <td>3.942955</td>\n      <td>4.453807</td>\n      <td>6.346597</td>\n      <td>10.056868</td>\n      <td>0.0</td>\n      <td>7.320331</td>\n      <td>0.000000</td>\n      <td>0.0</td>\n      <td>...</td>\n      <td>6.371876</td>\n      <td>9.623335</td>\n      <td>9.823921</td>\n      <td>6.555327</td>\n      <td>9.064002</td>\n      <td>11.633422</td>\n      <td>10.317266</td>\n      <td>8.745983</td>\n      <td>9.659081</td>\n      <td>0.000000</td>\n    </tr>\n    <tr>\n      <th>798</th>\n      <td>COAD</td>\n      <td>0.0</td>\n      <td>3.249582</td>\n      <td>3.707492</td>\n      <td>8.185901</td>\n      <td>9.504082</td>\n      <td>0.0</td>\n      <td>7.536589</td>\n      <td>1.811101</td>\n      <td>0.0</td>\n      <td>...</td>\n      <td>5.719386</td>\n      <td>8.610704</td>\n      <td>10.485517</td>\n      <td>3.589763</td>\n      <td>9.350636</td>\n      <td>12.180944</td>\n      <td>10.681194</td>\n      <td>9.466711</td>\n      <td>4.677458</td>\n      <td>0.586693</td>\n    </tr>\n    <tr>\n      <th>799</th>\n      <td>PRAD</td>\n      <td>0.0</td>\n      <td>2.590339</td>\n      <td>2.787976</td>\n      <td>7.318624</td>\n      <td>9.987136</td>\n      <td>0.0</td>\n      <td>9.213464</td>\n      <td>0.000000</td>\n      <td>0.0</td>\n      <td>...</td>\n      <td>5.785237</td>\n      <td>8.605387</td>\n      <td>11.004677</td>\n      <td>4.745888</td>\n      <td>9.626383</td>\n      <td>11.198279</td>\n      <td>10.335513</td>\n      <td>10.400581</td>\n      <td>5.718751</td>\n      <td>0.000000</td>\n    </tr>\n    <tr>\n      <th>800</th>\n      <td>PRAD</td>\n      <td>0.0</td>\n      <td>2.325242</td>\n      <td>3.805932</td>\n      <td>6.530246</td>\n      <td>9.560367</td>\n      <td>0.0</td>\n      <td>7.957027</td>\n      <td>0.000000</td>\n      <td>0.0</td>\n      <td>...</td>\n      <td>6.403075</td>\n      <td>8.594354</td>\n      <td>10.243079</td>\n      <td>9.139459</td>\n      <td>10.102934</td>\n      <td>11.641081</td>\n      <td>10.607358</td>\n      <td>9.844794</td>\n      <td>4.550716</td>\n      <td>0.000000</td>\n    </tr>\n  </tbody>\n</table>\n<p>801 rows × 20532 columns</p>\n</div>"
     },
     "execution_count": 1,
     "metadata": {},
     "output_type": "execute_result"
    }
   ],
   "source": [
    "# own PCA for two components\n",
    "from dataimport import random_sample, get_df_merged_with_labels\n",
    "from our_pca import our_pca\n",
    "\n",
    "#scaled_dataframe = pd.DataFrame(scaled_data)\n",
    "#data = random_sample(scaled_dataframe, 801, 2000)\n",
    "data_with_labels = get_df_merged_with_labels()\n",
    "data_with_labels"
   ]
  },
  {
   "cell_type": "code",
   "execution_count": 2,
   "outputs": [
    {
     "data": {
      "text/plain": "0      PRAD\n1      LUAD\n2      PRAD\n3      PRAD\n4      BRCA\n       ... \n796    BRCA\n797    LUAD\n798    COAD\n799    PRAD\n800    PRAD\nName: Class, Length: 801, dtype: object"
     },
     "execution_count": 2,
     "metadata": {},
     "output_type": "execute_result"
    }
   ],
   "source": [
    "labels = data_with_labels[\"Class\"]\n",
    "labels"
   ],
   "metadata": {
    "collapsed": false,
    "ExecuteTime": {
     "end_time": "2023-06-26T17:02:55.149903Z",
     "start_time": "2023-06-26T17:02:55.145645Z"
    }
   }
  },
  {
   "cell_type": "code",
   "execution_count": 3,
   "outputs": [
    {
     "data": {
      "text/plain": "     gene_0    gene_1    gene_2    gene_3     gene_4  gene_5    gene_6  \\\n0       0.0  2.017209  3.265527  5.478487  10.431999     0.0  7.175175   \n1       0.0  0.592732  1.588421  7.586157   9.623011     0.0  6.816049   \n2       0.0  3.511759  4.327199  6.881787   9.870730     0.0  6.972130   \n3       0.0  3.663618  4.507649  6.659068  10.196184     0.0  7.843375   \n4       0.0  2.655741  2.821547  6.539454   9.738265     0.0  6.566967   \n..      ...       ...       ...       ...        ...     ...       ...   \n796     0.0  1.865642  2.718197  7.350099  10.006003     0.0  6.764792   \n797     0.0  3.942955  4.453807  6.346597  10.056868     0.0  7.320331   \n798     0.0  3.249582  3.707492  8.185901   9.504082     0.0  7.536589   \n799     0.0  2.590339  2.787976  7.318624   9.987136     0.0  9.213464   \n800     0.0  2.325242  3.805932  6.530246   9.560367     0.0  7.957027   \n\n       gene_7  gene_8  gene_9  ...  gene_20521  gene_20522  gene_20523  \\\n0    0.591871     0.0     0.0  ...    4.926711    8.210257    9.723516   \n1    0.000000     0.0     0.0  ...    4.593372    7.323865    9.740931   \n2    0.452595     0.0     0.0  ...    5.125213    8.127123   10.908640   \n3    0.434882     0.0     0.0  ...    6.076566    8.792959   10.141520   \n4    0.360982     0.0     0.0  ...    5.996032    8.891425   10.373790   \n..        ...     ...     ...  ...         ...         ...         ...   \n796  0.496922     0.0     0.0  ...    6.088133    9.118313   10.004852   \n797  0.000000     0.0     0.0  ...    6.371876    9.623335    9.823921   \n798  1.811101     0.0     0.0  ...    5.719386    8.610704   10.485517   \n799  0.000000     0.0     0.0  ...    5.785237    8.605387   11.004677   \n800  0.000000     0.0     0.0  ...    6.403075    8.594354   10.243079   \n\n     gene_20524  gene_20525  gene_20526  gene_20527  gene_20528  gene_20529  \\\n0      7.220030    9.119813   12.003135    9.650743    8.921326    5.286759   \n1      6.256586    8.381612   12.674552   10.517059    9.397854    2.094168   \n2      5.401607    9.911597    9.045255    9.788359   10.090470    1.683023   \n3      8.942805    9.601208   11.392682    9.694814    9.684365    3.292001   \n4      7.181162    9.846910   11.922439    9.217749    9.461191    5.110372   \n..          ...         ...         ...         ...         ...         ...   \n796    4.484415    9.614701   12.031267    9.813063   10.092770    8.819269   \n797    6.555327    9.064002   11.633422   10.317266    8.745983    9.659081   \n798    3.589763    9.350636   12.180944   10.681194    9.466711    4.677458   \n799    4.745888    9.626383   11.198279   10.335513   10.400581    5.718751   \n800    9.139459   10.102934   11.641081   10.607358    9.844794    4.550716   \n\n     gene_20530  \n0      0.000000  \n1      0.000000  \n2      0.000000  \n3      0.000000  \n4      0.000000  \n..          ...  \n796    0.000000  \n797    0.000000  \n798    0.586693  \n799    0.000000  \n800    0.000000  \n\n[801 rows x 20531 columns]",
      "text/html": "<div>\n<style scoped>\n    .dataframe tbody tr th:only-of-type {\n        vertical-align: middle;\n    }\n\n    .dataframe tbody tr th {\n        vertical-align: top;\n    }\n\n    .dataframe thead th {\n        text-align: right;\n    }\n</style>\n<table border=\"1\" class=\"dataframe\">\n  <thead>\n    <tr style=\"text-align: right;\">\n      <th></th>\n      <th>gene_0</th>\n      <th>gene_1</th>\n      <th>gene_2</th>\n      <th>gene_3</th>\n      <th>gene_4</th>\n      <th>gene_5</th>\n      <th>gene_6</th>\n      <th>gene_7</th>\n      <th>gene_8</th>\n      <th>gene_9</th>\n      <th>...</th>\n      <th>gene_20521</th>\n      <th>gene_20522</th>\n      <th>gene_20523</th>\n      <th>gene_20524</th>\n      <th>gene_20525</th>\n      <th>gene_20526</th>\n      <th>gene_20527</th>\n      <th>gene_20528</th>\n      <th>gene_20529</th>\n      <th>gene_20530</th>\n    </tr>\n  </thead>\n  <tbody>\n    <tr>\n      <th>0</th>\n      <td>0.0</td>\n      <td>2.017209</td>\n      <td>3.265527</td>\n      <td>5.478487</td>\n      <td>10.431999</td>\n      <td>0.0</td>\n      <td>7.175175</td>\n      <td>0.591871</td>\n      <td>0.0</td>\n      <td>0.0</td>\n      <td>...</td>\n      <td>4.926711</td>\n      <td>8.210257</td>\n      <td>9.723516</td>\n      <td>7.220030</td>\n      <td>9.119813</td>\n      <td>12.003135</td>\n      <td>9.650743</td>\n      <td>8.921326</td>\n      <td>5.286759</td>\n      <td>0.000000</td>\n    </tr>\n    <tr>\n      <th>1</th>\n      <td>0.0</td>\n      <td>0.592732</td>\n      <td>1.588421</td>\n      <td>7.586157</td>\n      <td>9.623011</td>\n      <td>0.0</td>\n      <td>6.816049</td>\n      <td>0.000000</td>\n      <td>0.0</td>\n      <td>0.0</td>\n      <td>...</td>\n      <td>4.593372</td>\n      <td>7.323865</td>\n      <td>9.740931</td>\n      <td>6.256586</td>\n      <td>8.381612</td>\n      <td>12.674552</td>\n      <td>10.517059</td>\n      <td>9.397854</td>\n      <td>2.094168</td>\n      <td>0.000000</td>\n    </tr>\n    <tr>\n      <th>2</th>\n      <td>0.0</td>\n      <td>3.511759</td>\n      <td>4.327199</td>\n      <td>6.881787</td>\n      <td>9.870730</td>\n      <td>0.0</td>\n      <td>6.972130</td>\n      <td>0.452595</td>\n      <td>0.0</td>\n      <td>0.0</td>\n      <td>...</td>\n      <td>5.125213</td>\n      <td>8.127123</td>\n      <td>10.908640</td>\n      <td>5.401607</td>\n      <td>9.911597</td>\n      <td>9.045255</td>\n      <td>9.788359</td>\n      <td>10.090470</td>\n      <td>1.683023</td>\n      <td>0.000000</td>\n    </tr>\n    <tr>\n      <th>3</th>\n      <td>0.0</td>\n      <td>3.663618</td>\n      <td>4.507649</td>\n      <td>6.659068</td>\n      <td>10.196184</td>\n      <td>0.0</td>\n      <td>7.843375</td>\n      <td>0.434882</td>\n      <td>0.0</td>\n      <td>0.0</td>\n      <td>...</td>\n      <td>6.076566</td>\n      <td>8.792959</td>\n      <td>10.141520</td>\n      <td>8.942805</td>\n      <td>9.601208</td>\n      <td>11.392682</td>\n      <td>9.694814</td>\n      <td>9.684365</td>\n      <td>3.292001</td>\n      <td>0.000000</td>\n    </tr>\n    <tr>\n      <th>4</th>\n      <td>0.0</td>\n      <td>2.655741</td>\n      <td>2.821547</td>\n      <td>6.539454</td>\n      <td>9.738265</td>\n      <td>0.0</td>\n      <td>6.566967</td>\n      <td>0.360982</td>\n      <td>0.0</td>\n      <td>0.0</td>\n      <td>...</td>\n      <td>5.996032</td>\n      <td>8.891425</td>\n      <td>10.373790</td>\n      <td>7.181162</td>\n      <td>9.846910</td>\n      <td>11.922439</td>\n      <td>9.217749</td>\n      <td>9.461191</td>\n      <td>5.110372</td>\n      <td>0.000000</td>\n    </tr>\n    <tr>\n      <th>...</th>\n      <td>...</td>\n      <td>...</td>\n      <td>...</td>\n      <td>...</td>\n      <td>...</td>\n      <td>...</td>\n      <td>...</td>\n      <td>...</td>\n      <td>...</td>\n      <td>...</td>\n      <td>...</td>\n      <td>...</td>\n      <td>...</td>\n      <td>...</td>\n      <td>...</td>\n      <td>...</td>\n      <td>...</td>\n      <td>...</td>\n      <td>...</td>\n      <td>...</td>\n      <td>...</td>\n    </tr>\n    <tr>\n      <th>796</th>\n      <td>0.0</td>\n      <td>1.865642</td>\n      <td>2.718197</td>\n      <td>7.350099</td>\n      <td>10.006003</td>\n      <td>0.0</td>\n      <td>6.764792</td>\n      <td>0.496922</td>\n      <td>0.0</td>\n      <td>0.0</td>\n      <td>...</td>\n      <td>6.088133</td>\n      <td>9.118313</td>\n      <td>10.004852</td>\n      <td>4.484415</td>\n      <td>9.614701</td>\n      <td>12.031267</td>\n      <td>9.813063</td>\n      <td>10.092770</td>\n      <td>8.819269</td>\n      <td>0.000000</td>\n    </tr>\n    <tr>\n      <th>797</th>\n      <td>0.0</td>\n      <td>3.942955</td>\n      <td>4.453807</td>\n      <td>6.346597</td>\n      <td>10.056868</td>\n      <td>0.0</td>\n      <td>7.320331</td>\n      <td>0.000000</td>\n      <td>0.0</td>\n      <td>0.0</td>\n      <td>...</td>\n      <td>6.371876</td>\n      <td>9.623335</td>\n      <td>9.823921</td>\n      <td>6.555327</td>\n      <td>9.064002</td>\n      <td>11.633422</td>\n      <td>10.317266</td>\n      <td>8.745983</td>\n      <td>9.659081</td>\n      <td>0.000000</td>\n    </tr>\n    <tr>\n      <th>798</th>\n      <td>0.0</td>\n      <td>3.249582</td>\n      <td>3.707492</td>\n      <td>8.185901</td>\n      <td>9.504082</td>\n      <td>0.0</td>\n      <td>7.536589</td>\n      <td>1.811101</td>\n      <td>0.0</td>\n      <td>0.0</td>\n      <td>...</td>\n      <td>5.719386</td>\n      <td>8.610704</td>\n      <td>10.485517</td>\n      <td>3.589763</td>\n      <td>9.350636</td>\n      <td>12.180944</td>\n      <td>10.681194</td>\n      <td>9.466711</td>\n      <td>4.677458</td>\n      <td>0.586693</td>\n    </tr>\n    <tr>\n      <th>799</th>\n      <td>0.0</td>\n      <td>2.590339</td>\n      <td>2.787976</td>\n      <td>7.318624</td>\n      <td>9.987136</td>\n      <td>0.0</td>\n      <td>9.213464</td>\n      <td>0.000000</td>\n      <td>0.0</td>\n      <td>0.0</td>\n      <td>...</td>\n      <td>5.785237</td>\n      <td>8.605387</td>\n      <td>11.004677</td>\n      <td>4.745888</td>\n      <td>9.626383</td>\n      <td>11.198279</td>\n      <td>10.335513</td>\n      <td>10.400581</td>\n      <td>5.718751</td>\n      <td>0.000000</td>\n    </tr>\n    <tr>\n      <th>800</th>\n      <td>0.0</td>\n      <td>2.325242</td>\n      <td>3.805932</td>\n      <td>6.530246</td>\n      <td>9.560367</td>\n      <td>0.0</td>\n      <td>7.957027</td>\n      <td>0.000000</td>\n      <td>0.0</td>\n      <td>0.0</td>\n      <td>...</td>\n      <td>6.403075</td>\n      <td>8.594354</td>\n      <td>10.243079</td>\n      <td>9.139459</td>\n      <td>10.102934</td>\n      <td>11.641081</td>\n      <td>10.607358</td>\n      <td>9.844794</td>\n      <td>4.550716</td>\n      <td>0.000000</td>\n    </tr>\n  </tbody>\n</table>\n<p>801 rows × 20531 columns</p>\n</div>"
     },
     "execution_count": 3,
     "metadata": {},
     "output_type": "execute_result"
    }
   ],
   "source": [
    "data = data_with_labels.drop(['Class'], axis=1)\n",
    "data"
   ],
   "metadata": {
    "collapsed": false,
    "ExecuteTime": {
     "end_time": "2023-06-26T17:02:57.244418Z",
     "start_time": "2023-06-26T17:02:57.169573Z"
    }
   }
  },
  {
   "cell_type": "code",
   "execution_count": 18,
   "outputs": [
    {
     "name": "stdout",
     "output_type": "stream",
     "text": [
      "-4.294907405424682 6.692666499126729\n"
     ]
    }
   ],
   "source": [
    "mean_of_max_values = data.max(axis=0).mean()\n",
    "mean_of_min_values = data.min(axis=0).mean()\n",
    "print(mean_of_min_values, mean_of_max_values)"
   ],
   "metadata": {
    "collapsed": false,
    "ExecuteTime": {
     "end_time": "2023-06-26T17:13:33.141526Z",
     "start_time": "2023-06-26T17:13:33.113707Z"
    }
   }
  },
  {
   "cell_type": "code",
   "execution_count": 21,
   "outputs": [
    {
     "data": {
      "text/plain": "2.7468934761378527"
     },
     "execution_count": 21,
     "metadata": {},
     "output_type": "execute_result"
    }
   ],
   "source": [
    "# Use a fourth of the mean of the absolute min/max means of all genes\n",
    "# as a good threshold\n",
    "threshold = (abs(mean_of_max_values) + abs(mean_of_min_values)) / 4.\n",
    "threshold"
   ],
   "metadata": {
    "collapsed": false,
    "ExecuteTime": {
     "end_time": "2023-06-26T17:14:19.964029Z",
     "start_time": "2023-06-26T17:14:19.959969Z"
    }
   }
  },
  {
   "cell_type": "code",
   "execution_count": 22,
   "outputs": [
    {
     "name": "stdout",
     "output_type": "stream",
     "text": [
      "Feature scaling: center data..\n"
     ]
    },
    {
     "data": {
      "text/plain": "      gene_18   gene_21   gene_26   gene_28   gene_30   gene_31   gene_33  \\\n0   -1.612565 -2.556424  4.492640  1.946337 -2.139337  2.895085  2.463377   \n1   -2.204436 -2.556424  7.227337 -3.499076 -2.139337 -1.168574 -0.957109   \n2   -0.521414  1.104002  3.374174  3.006641 -2.139337 -0.715978 -2.284279   \n3   -0.937080 -2.556424  1.191285  1.795299 -2.139337  0.098782  5.458435   \n4   -1.314729 -2.556424 -0.780355  1.187563 -2.139337 -0.519188  0.328522   \n..        ...       ...       ...       ...       ...       ...       ...   \n796 -1.707514 -0.600851 -2.722476  1.465665 -2.139337 -1.168574 -1.418360   \n797 -2.204436 -2.556424  6.447114 -1.193549 -2.139337  2.676314 -0.038388   \n798 -1.201842  2.623397 -1.397377 -0.311333  4.692401  6.283717  3.290707   \n799 -2.204436 -2.556424  0.728459  0.840553 -1.557455  0.147746  0.167499   \n800 -2.204436  2.152679  0.762771  1.490244 -1.390962  1.663142  8.035247   \n\n      gene_39   gene_44   gene_58  ...  gene_20445  gene_20466  gene_20472  \\\n0   -1.363294 -0.599087  1.378003  ...   -2.566271   -0.510351   -1.221529   \n1   -0.552152  1.041859 -2.456381  ...    1.684385   -2.356593   -1.643963   \n2   -0.910699 -1.609365  1.641941  ...   -0.904514    1.284901   -2.231808   \n3   -0.928412  0.322053  0.885167  ...   -2.944422    1.430922   -2.231808   \n4   -0.713909 -1.609365  0.086683  ...   -3.932276    1.888586    3.138590   \n..        ...       ...       ...  ...         ...         ...         ...   \n796 -1.363294 -0.449930  1.536175  ...   -1.085851    2.632923    2.304668   \n797 -1.363294 -1.609365  0.067336  ...   -1.033817    1.659688   -1.613757   \n798  4.936500 -0.606771  0.595148  ...    4.017887    1.937953    2.473673   \n799 -1.363294 -1.609365  2.735385  ...   -0.683492   -0.851798   -0.431104   \n800  1.162624  0.527974  1.380808  ...    2.066034    1.960897   -1.483432   \n\n     gene_20476  gene_20484  gene_20490  gene_20500  gene_20504  gene_20524  \\\n0      2.239762    0.945496   -1.958118    3.548181   -1.257887    2.372303   \n1     -6.935523    2.743879    2.050109   -1.350225   -3.048822    1.408859   \n2      1.898584    4.763046    0.379137   -2.354619    1.154481    0.553879   \n3      0.593665    2.694151   -1.523236    2.720764    2.373228    4.095078   \n4      0.712359   -0.882600    0.086976    1.599382    0.726567    2.333435   \n..          ...         ...         ...         ...         ...         ...   \n796    1.551416   -1.275384    1.112667    1.469090   -2.248225   -0.363312   \n797    1.272233   -1.154256   -1.958118   -2.354619   -0.686613    1.707600   \n798    1.154372   -0.183838    0.368017   -2.354619    0.232430   -1.257964   \n799    0.669889    3.973407   -1.958118   -0.553916    2.001215   -0.101839   \n800    1.213421    1.422868    0.179222    3.506153    2.357850    4.291732   \n\n     gene_20529  \n0     -0.241417  \n1     -3.434008  \n2     -3.845154  \n3     -2.236175  \n4     -0.417805  \n..          ...  \n796    3.291092  \n797    4.130904  \n798   -0.850719  \n799    0.190574  \n800   -0.977461  \n\n[801 rows x 3924 columns]",
      "text/html": "<div>\n<style scoped>\n    .dataframe tbody tr th:only-of-type {\n        vertical-align: middle;\n    }\n\n    .dataframe tbody tr th {\n        vertical-align: top;\n    }\n\n    .dataframe thead th {\n        text-align: right;\n    }\n</style>\n<table border=\"1\" class=\"dataframe\">\n  <thead>\n    <tr style=\"text-align: right;\">\n      <th></th>\n      <th>gene_18</th>\n      <th>gene_21</th>\n      <th>gene_26</th>\n      <th>gene_28</th>\n      <th>gene_30</th>\n      <th>gene_31</th>\n      <th>gene_33</th>\n      <th>gene_39</th>\n      <th>gene_44</th>\n      <th>gene_58</th>\n      <th>...</th>\n      <th>gene_20445</th>\n      <th>gene_20466</th>\n      <th>gene_20472</th>\n      <th>gene_20476</th>\n      <th>gene_20484</th>\n      <th>gene_20490</th>\n      <th>gene_20500</th>\n      <th>gene_20504</th>\n      <th>gene_20524</th>\n      <th>gene_20529</th>\n    </tr>\n  </thead>\n  <tbody>\n    <tr>\n      <th>0</th>\n      <td>-1.612565</td>\n      <td>-2.556424</td>\n      <td>4.492640</td>\n      <td>1.946337</td>\n      <td>-2.139337</td>\n      <td>2.895085</td>\n      <td>2.463377</td>\n      <td>-1.363294</td>\n      <td>-0.599087</td>\n      <td>1.378003</td>\n      <td>...</td>\n      <td>-2.566271</td>\n      <td>-0.510351</td>\n      <td>-1.221529</td>\n      <td>2.239762</td>\n      <td>0.945496</td>\n      <td>-1.958118</td>\n      <td>3.548181</td>\n      <td>-1.257887</td>\n      <td>2.372303</td>\n      <td>-0.241417</td>\n    </tr>\n    <tr>\n      <th>1</th>\n      <td>-2.204436</td>\n      <td>-2.556424</td>\n      <td>7.227337</td>\n      <td>-3.499076</td>\n      <td>-2.139337</td>\n      <td>-1.168574</td>\n      <td>-0.957109</td>\n      <td>-0.552152</td>\n      <td>1.041859</td>\n      <td>-2.456381</td>\n      <td>...</td>\n      <td>1.684385</td>\n      <td>-2.356593</td>\n      <td>-1.643963</td>\n      <td>-6.935523</td>\n      <td>2.743879</td>\n      <td>2.050109</td>\n      <td>-1.350225</td>\n      <td>-3.048822</td>\n      <td>1.408859</td>\n      <td>-3.434008</td>\n    </tr>\n    <tr>\n      <th>2</th>\n      <td>-0.521414</td>\n      <td>1.104002</td>\n      <td>3.374174</td>\n      <td>3.006641</td>\n      <td>-2.139337</td>\n      <td>-0.715978</td>\n      <td>-2.284279</td>\n      <td>-0.910699</td>\n      <td>-1.609365</td>\n      <td>1.641941</td>\n      <td>...</td>\n      <td>-0.904514</td>\n      <td>1.284901</td>\n      <td>-2.231808</td>\n      <td>1.898584</td>\n      <td>4.763046</td>\n      <td>0.379137</td>\n      <td>-2.354619</td>\n      <td>1.154481</td>\n      <td>0.553879</td>\n      <td>-3.845154</td>\n    </tr>\n    <tr>\n      <th>3</th>\n      <td>-0.937080</td>\n      <td>-2.556424</td>\n      <td>1.191285</td>\n      <td>1.795299</td>\n      <td>-2.139337</td>\n      <td>0.098782</td>\n      <td>5.458435</td>\n      <td>-0.928412</td>\n      <td>0.322053</td>\n      <td>0.885167</td>\n      <td>...</td>\n      <td>-2.944422</td>\n      <td>1.430922</td>\n      <td>-2.231808</td>\n      <td>0.593665</td>\n      <td>2.694151</td>\n      <td>-1.523236</td>\n      <td>2.720764</td>\n      <td>2.373228</td>\n      <td>4.095078</td>\n      <td>-2.236175</td>\n    </tr>\n    <tr>\n      <th>4</th>\n      <td>-1.314729</td>\n      <td>-2.556424</td>\n      <td>-0.780355</td>\n      <td>1.187563</td>\n      <td>-2.139337</td>\n      <td>-0.519188</td>\n      <td>0.328522</td>\n      <td>-0.713909</td>\n      <td>-1.609365</td>\n      <td>0.086683</td>\n      <td>...</td>\n      <td>-3.932276</td>\n      <td>1.888586</td>\n      <td>3.138590</td>\n      <td>0.712359</td>\n      <td>-0.882600</td>\n      <td>0.086976</td>\n      <td>1.599382</td>\n      <td>0.726567</td>\n      <td>2.333435</td>\n      <td>-0.417805</td>\n    </tr>\n    <tr>\n      <th>...</th>\n      <td>...</td>\n      <td>...</td>\n      <td>...</td>\n      <td>...</td>\n      <td>...</td>\n      <td>...</td>\n      <td>...</td>\n      <td>...</td>\n      <td>...</td>\n      <td>...</td>\n      <td>...</td>\n      <td>...</td>\n      <td>...</td>\n      <td>...</td>\n      <td>...</td>\n      <td>...</td>\n      <td>...</td>\n      <td>...</td>\n      <td>...</td>\n      <td>...</td>\n      <td>...</td>\n    </tr>\n    <tr>\n      <th>796</th>\n      <td>-1.707514</td>\n      <td>-0.600851</td>\n      <td>-2.722476</td>\n      <td>1.465665</td>\n      <td>-2.139337</td>\n      <td>-1.168574</td>\n      <td>-1.418360</td>\n      <td>-1.363294</td>\n      <td>-0.449930</td>\n      <td>1.536175</td>\n      <td>...</td>\n      <td>-1.085851</td>\n      <td>2.632923</td>\n      <td>2.304668</td>\n      <td>1.551416</td>\n      <td>-1.275384</td>\n      <td>1.112667</td>\n      <td>1.469090</td>\n      <td>-2.248225</td>\n      <td>-0.363312</td>\n      <td>3.291092</td>\n    </tr>\n    <tr>\n      <th>797</th>\n      <td>-2.204436</td>\n      <td>-2.556424</td>\n      <td>6.447114</td>\n      <td>-1.193549</td>\n      <td>-2.139337</td>\n      <td>2.676314</td>\n      <td>-0.038388</td>\n      <td>-1.363294</td>\n      <td>-1.609365</td>\n      <td>0.067336</td>\n      <td>...</td>\n      <td>-1.033817</td>\n      <td>1.659688</td>\n      <td>-1.613757</td>\n      <td>1.272233</td>\n      <td>-1.154256</td>\n      <td>-1.958118</td>\n      <td>-2.354619</td>\n      <td>-0.686613</td>\n      <td>1.707600</td>\n      <td>4.130904</td>\n    </tr>\n    <tr>\n      <th>798</th>\n      <td>-1.201842</td>\n      <td>2.623397</td>\n      <td>-1.397377</td>\n      <td>-0.311333</td>\n      <td>4.692401</td>\n      <td>6.283717</td>\n      <td>3.290707</td>\n      <td>4.936500</td>\n      <td>-0.606771</td>\n      <td>0.595148</td>\n      <td>...</td>\n      <td>4.017887</td>\n      <td>1.937953</td>\n      <td>2.473673</td>\n      <td>1.154372</td>\n      <td>-0.183838</td>\n      <td>0.368017</td>\n      <td>-2.354619</td>\n      <td>0.232430</td>\n      <td>-1.257964</td>\n      <td>-0.850719</td>\n    </tr>\n    <tr>\n      <th>799</th>\n      <td>-2.204436</td>\n      <td>-2.556424</td>\n      <td>0.728459</td>\n      <td>0.840553</td>\n      <td>-1.557455</td>\n      <td>0.147746</td>\n      <td>0.167499</td>\n      <td>-1.363294</td>\n      <td>-1.609365</td>\n      <td>2.735385</td>\n      <td>...</td>\n      <td>-0.683492</td>\n      <td>-0.851798</td>\n      <td>-0.431104</td>\n      <td>0.669889</td>\n      <td>3.973407</td>\n      <td>-1.958118</td>\n      <td>-0.553916</td>\n      <td>2.001215</td>\n      <td>-0.101839</td>\n      <td>0.190574</td>\n    </tr>\n    <tr>\n      <th>800</th>\n      <td>-2.204436</td>\n      <td>2.152679</td>\n      <td>0.762771</td>\n      <td>1.490244</td>\n      <td>-1.390962</td>\n      <td>1.663142</td>\n      <td>8.035247</td>\n      <td>1.162624</td>\n      <td>0.527974</td>\n      <td>1.380808</td>\n      <td>...</td>\n      <td>2.066034</td>\n      <td>1.960897</td>\n      <td>-1.483432</td>\n      <td>1.213421</td>\n      <td>1.422868</td>\n      <td>0.179222</td>\n      <td>3.506153</td>\n      <td>2.357850</td>\n      <td>4.291732</td>\n      <td>-0.977461</td>\n    </tr>\n  </tbody>\n</table>\n<p>801 rows × 3924 columns</p>\n</div>"
     },
     "execution_count": 22,
     "metadata": {},
     "output_type": "execute_result"
    }
   ],
   "source": [
    "from data_cleaning import *\n",
    "# Cleaning and centering of data\n",
    "data = preprocessing(data, scaling=\"center\", threshold=threshold)\n",
    "#data_with_labels = preprocessing(data_with_labels, scaling=\"standardize\")\n",
    "data"
   ],
   "metadata": {
    "collapsed": false,
    "ExecuteTime": {
     "end_time": "2023-06-26T17:14:24.020056Z",
     "start_time": "2023-06-26T17:14:23.941867Z"
    }
   }
  },
  {
   "cell_type": "code",
   "execution_count": 23,
   "outputs": [],
   "source": [
    "n_components = 2\n",
    "own_pca = our_pca(data, n_components)"
   ],
   "metadata": {
    "collapsed": false,
    "ExecuteTime": {
     "end_time": "2023-06-26T17:15:14.412690Z",
     "start_time": "2023-06-26T17:14:35.580386Z"
    }
   }
  },
  {
   "cell_type": "code",
   "execution_count": 1,
   "outputs": [
    {
     "ename": "NameError",
     "evalue": "name 'own_pca' is not defined",
     "output_type": "error",
     "traceback": [
      "\u001B[0;31m---------------------------------------------------------------------------\u001B[0m",
      "\u001B[0;31mNameError\u001B[0m                                 Traceback (most recent call last)",
      "Cell \u001B[0;32mIn[1], line 1\u001B[0m\n\u001B[0;32m----> 1\u001B[0m own_eigenvalues, own_eigenvectors \u001B[38;5;241m=\u001B[39m \u001B[43mown_pca\u001B[49m\n\u001B[1;32m      3\u001B[0m \u001B[38;5;66;03m# Display eigenvalues and eigenvectors\u001B[39;00m\n\u001B[1;32m      4\u001B[0m \u001B[38;5;28mprint\u001B[39m(\u001B[38;5;124m\"\u001B[39m\u001B[38;5;124mEigenvalues:\u001B[39m\u001B[38;5;124m\"\u001B[39m)\n",
      "\u001B[0;31mNameError\u001B[0m: name 'own_pca' is not defined"
     ]
    }
   ],
   "source": [
    "own_eigenvalues, own_eigenvectors = own_pca\n",
    "\n",
    "# Display eigenvalues and eigenvectors\n",
    "print(\"Eigenvalues:\")\n",
    "print(own_eigenvalues)\n",
    "\n",
    "print(\"Eigenvectors:\")\n",
    "print(own_eigenvectors)"
   ],
   "metadata": {
    "collapsed": false,
    "ExecuteTime": {
     "end_time": "2023-06-26T17:50:23.114342Z",
     "start_time": "2023-06-26T17:50:22.735515Z"
    }
   }
  },
  {
   "cell_type": "code",
   "execution_count": null,
   "outputs": [],
   "source": [],
   "metadata": {
    "collapsed": false
   }
  }
 ],
 "metadata": {
  "kernelspec": {
   "display_name": "Python 3",
   "language": "python",
   "name": "python3"
  },
  "language_info": {
   "codemirror_mode": {
    "name": "ipython",
    "version": 2
   },
   "file_extension": ".py",
   "mimetype": "text/x-python",
   "name": "python",
   "nbconvert_exporter": "python",
   "pygments_lexer": "ipython2",
   "version": "2.7.6"
  }
 },
 "nbformat": 4,
 "nbformat_minor": 0
}
