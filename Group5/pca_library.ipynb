{
 "cells": [
  {
   "attachments": {},
   "cell_type": "markdown",
   "metadata": {},
   "source": [
    "# Comparison with existing python libraries\n",
    "## using package pca"
   ]
  },
  {
   "attachments": {},
   "cell_type": "markdown",
   "metadata": {},
   "source": [
    "#### Data import used from dataimport.py"
   ]
  },
  {
   "cell_type": "code",
   "execution_count": null,
   "metadata": {},
   "outputs": [],
   "source": [
    "import pandas as pd\n",
    "import numpy as np\n",
    "import matplotlib.pyplot as plt\n",
    "import pca"
   ]
  },
  {
   "attachments": {},
   "cell_type": "markdown",
   "metadata": {},
   "source": [
    "get the data from data.csv\n",
    "\n",
    "save it in dataframe to add the labels + save a copy in dataframe1 to have the data without the added labels"
   ]
  },
  {
   "cell_type": "code",
   "execution_count": null,
   "metadata": {},
   "outputs": [],
   "source": [
    "from dataimport import get_df_merged_with_labels\n",
    "dataframe =  get_df_merged_with_labels()\n",
    "print(dataframe.head(10))"
   ]
  },
  {
   "attachments": {},
   "cell_type": "markdown",
   "metadata": {},
   "source": [
    "get a copy of dataframe without the labels"
   ]
  },
  {
   "cell_type": "code",
   "execution_count": null,
   "metadata": {},
   "outputs": [],
   "source": [
    "# Drop column 'Unnamed'\n",
    "if 'Class' in dataframe.columns:\n",
    "    df1 = dataframe.drop(['Class'], axis=1)\n",
    "\n",
    "print(df1.head(10))"
   ]
  },
  {
   "cell_type": "code",
   "execution_count": null,
   "metadata": {},
   "outputs": [],
   "source": [
    "# Move column 'Class' at the first position\n",
    "cols = dataframe.columns.tolist()\n",
    "if cols[-1] == 'Class':\n",
    "    cols = cols[-1:] + cols[:-1]\n",
    "    dataframe = dataframe[cols]\n",
    "dataframe.head()"
   ]
  },
  {
   "attachments": {},
   "cell_type": "markdown",
   "metadata": {},
   "source": [
    "## PCA implementation\n",
    "\n",
    "using data in df"
   ]
  },
  {
   "attachments": {},
   "cell_type": "markdown",
   "metadata": {},
   "source": [
    "#### package pca"
   ]
  },
  {
   "cell_type": "code",
   "execution_count": null,
   "metadata": {},
   "outputs": [],
   "source": [
    "from pca import pca"
   ]
  },
  {
   "cell_type": "code",
   "execution_count": null,
   "metadata": {},
   "outputs": [],
   "source": [
    "# Initialize pca with default parameters\n",
    "model = pca(normalize=True)"
   ]
  },
  {
   "cell_type": "code",
   "execution_count": null,
   "metadata": {},
   "outputs": [],
   "source": [
    "# Load dataset df\n",
    "X = df1\n",
    "col_labels = dataframe.Class\n"
   ]
  },
  {
   "attachments": {},
   "cell_type": "markdown",
   "metadata": {},
   "source": [
    "look at ellbow plot of explained variance"
   ]
  },
  {
   "cell_type": "code",
   "execution_count": null,
   "metadata": {},
   "outputs": [],
   "source": [
    "# Fit transform\n",
    "results = model.fit_transform(X)"
   ]
  },
  {
   "cell_type": "code",
   "execution_count": null,
   "metadata": {},
   "outputs": [],
   "source": [
    "# Plot the explained variance\n",
    "model.plot()"
   ]
  },
  {
   "attachments": {},
   "cell_type": "markdown",
   "metadata": {},
   "source": [
    "plot first two PCs"
   ]
  },
  {
   "cell_type": "code",
   "execution_count": null,
   "metadata": {
    "is_executing": true
   },
   "outputs": [],
   "source": [
    "# Scatter plot with loadings\n",
    "model.biplot()"
   ]
  },
  {
   "attachments": {},
   "cell_type": "markdown",
   "metadata": {},
   "source": [
    "### PCA implementation with sklearn"
   ]
  },
  {
   "cell_type": "code",
   "execution_count": null,
   "metadata": {
    "is_executing": true
   },
   "outputs": [],
   "source": [
    "from sklearn.decomposition import PCA"
   ]
  },
  {
   "cell_type": "code",
   "execution_count": null,
   "metadata": {
    "is_executing": true
   },
   "outputs": [],
   "source": [
    "dataframe.head()"
   ]
  },
  {
   "attachments": {},
   "cell_type": "markdown",
   "metadata": {},
   "source": [
    "calculate the number of missing values (NaN values) in each column of a DataFrame"
   ]
  },
  {
   "cell_type": "code",
   "execution_count": null,
   "metadata": {
    "is_executing": true
   },
   "outputs": [],
   "source": [
    "dataframe.isnull().sum()"
   ]
  },
  {
   "attachments": {},
   "cell_type": "markdown",
   "metadata": {},
   "source": [
    "just data for pca"
   ]
  },
  {
   "cell_type": "code",
   "execution_count": null,
   "metadata": {
    "is_executing": true
   },
   "outputs": [],
   "source": [
    "print(df1.values.shape)\n",
    "df1.head()"
   ]
  },
  {
   "cell_type": "code",
   "execution_count": null,
   "metadata": {
    "is_executing": true
   },
   "outputs": [],
   "source": [
    "pca_data = df1.values\n",
    "pca_data"
   ]
  },
  {
   "cell_type": "code",
   "execution_count": null,
   "metadata": {
    "is_executing": true
   },
   "outputs": [],
   "source": [
    "from sklearn.preprocessing import StandardScaler\n",
    "from sklearn.decomposition import PCA"
   ]
  },
  {
   "attachments": {},
   "cell_type": "markdown",
   "metadata": {},
   "source": [
    "Scaling data with scaler method"
   ]
  },
  {
   "cell_type": "code",
   "execution_count": null,
   "metadata": {
    "is_executing": true
   },
   "outputs": [],
   "source": [
    "scaler = StandardScaler()\n",
    "data_Scaled = scaler.fit_transform(pca_data)\n",
    "data_Scaled"
   ]
  },
  {
   "attachments": {},
   "cell_type": "markdown",
   "metadata": {},
   "source": [
    "PCA with n_components=2"
   ]
  },
  {
   "cell_type": "code",
   "execution_count": null,
   "metadata": {
    "is_executing": true
   },
   "outputs": [],
   "source": [
    "# define number of components as 2 \n",
    "pca_2_components=PCA(n_components=2)"
   ]
  },
  {
   "cell_type": "code",
   "execution_count": null,
   "metadata": {
    "is_executing": true
   },
   "outputs": [],
   "source": [
    "#Perform fit transform on the scaled data\n",
    "data_pca_2_components = pca_2_components.fit_transform(data_Scaled)\n",
    "data_pca_2_components.shape"
   ]
  },
  {
   "cell_type": "code",
   "execution_count": null,
   "metadata": {
    "is_executing": true
   },
   "outputs": [],
   "source": [
    "data_pca_2_components"
   ]
  },
  {
   "cell_type": "code",
   "execution_count": null,
   "metadata": {
    "is_executing": true
   },
   "outputs": [],
   "source": [
    "eigenvectors_sklearn = pca_2_components.components_\n",
    "eigenvectors_sklearn"
   ]
  },
  {
   "cell_type": "code",
   "execution_count": null,
   "metadata": {
    "is_executing": true
   },
   "outputs": [],
   "source": [
    "# Put the data back on the 2 columns defined \n",
    "pca_data_2comp = pd.DataFrame(data_pca_2_components)\n",
    "pca_data_2comp.columns = ['pca1','pca2']\n",
    "\n",
    "# Add the convereted categorical data for \n",
    "pca_data_2comp['cancer_type']=dataframe['Class']\n",
    "pca_data_2comp"
   ]
  },
  {
   "cell_type": "code",
   "execution_count": null,
   "metadata": {
    "is_executing": true
   },
   "outputs": [],
   "source": [
    "import seaborn as sns"
   ]
  },
  {
   "cell_type": "code",
   "execution_count": null,
   "metadata": {
    "is_executing": true
   },
   "outputs": [],
   "source": [
    "# Present the data on the 5 clusters using seaborn maps \n",
    "sns.scatterplot(x='pca1',y='pca2', hue = 'cancer_type',data=pca_data_2comp)\n",
    "plt.legend(loc='upper right', bbox_to_anchor=(1.4, 1), title=\"Cancer Type\", frameon=False)\n",
    "# Show the plot\n",
    "plt.show()"
   ]
  },
  {
   "cell_type": "code",
   "execution_count": null,
   "metadata": {
    "is_executing": true
   },
   "outputs": [],
   "source": [
    "# Compute the explained variance ratio\n",
    "explained_variance_ratio = pca_2_components.explained_variance_ratio_\n",
    "explained_variance_ratio\n",
    "# Sum the elements of the array\n",
    "var_sum = np.sum(explained_variance_ratio)\n",
    "var_sum"
   ]
  },
  {
   "cell_type": "code",
   "execution_count": null,
   "metadata": {
    "is_executing": true
   },
   "outputs": [],
   "source": [
    "# show how much variance each component explains\n",
    "explained_variance_ratio"
   ]
  },
  {
   "cell_type": "code",
   "execution_count": null,
   "metadata": {
    "is_executing": true
   },
   "outputs": [],
   "source": [
    "print(pca_2_components.singular_values_)"
   ]
  },
  {
   "attachments": {},
   "cell_type": "markdown",
   "metadata": {},
   "source": [
    "pca 2 components on unscaled data"
   ]
  },
  {
   "cell_type": "code",
   "execution_count": null,
   "metadata": {
    "is_executing": true
   },
   "outputs": [],
   "source": [
    "#Perform fit transform on the scaled data\n",
    "data_pca_2_comp_unscaled = pca_2_components.fit_transform(pca_data)\n",
    "data_pca_2_comp_unscaled.shape"
   ]
  },
  {
   "cell_type": "code",
   "execution_count": null,
   "metadata": {
    "is_executing": true
   },
   "outputs": [],
   "source": [
    "data_pca_2_comp_unscaled"
   ]
  },
  {
   "cell_type": "code",
   "execution_count": null,
   "metadata": {
    "is_executing": true
   },
   "outputs": [],
   "source": [
    "# Put the data back on the 2 columns defined \n",
    "pca_data_2comp_unscaled = pd.DataFrame(data_pca_2_comp_unscaled)\n",
    "pca_data_2comp_unscaled .columns = ['pca1','pca2']\n",
    "\n",
    "# Add the convereted categorical data for \n",
    "pca_data_2comp_unscaled ['cancer_type']=dataframe['Class']\n",
    "pca_data_2comp_unscaled"
   ]
  },
  {
   "cell_type": "code",
   "execution_count": null,
   "metadata": {
    "is_executing": true
   },
   "outputs": [],
   "source": [
    "# Present the data on the 5 clusters using seaborn maps \n",
    "sns.scatterplot(x='pca1',y='pca2', hue = 'cancer_type',data=pca_data_2comp_unscaled)\n",
    "plt.legend(loc='upper right', bbox_to_anchor=(1.4, 1), title=\"Cancer Type\", frameon=False)\n",
    "# Show the plot\n",
    "plt.show()"
   ]
  },
  {
   "cell_type": "code",
   "execution_count": null,
   "metadata": {
    "is_executing": true
   },
   "outputs": [],
   "source": [
    "# Compute the explained variance ratio\n",
    "explained_variance_ratio = pca_2_components.explained_variance_ratio_\n",
    "explained_variance_ratio\n",
    "# Sum the elements of the array\n",
    "var_sum = np.sum(explained_variance_ratio)\n",
    "var_sum"
   ]
  },
  {
   "cell_type": "code",
   "execution_count": null,
   "metadata": {
    "is_executing": true
   },
   "outputs": [],
   "source": [
    "explained_variance_ratio"
   ]
  },
  {
   "cell_type": "code",
   "execution_count": null,
   "metadata": {
    "is_executing": true
   },
   "outputs": [],
   "source": [
    "print(pca_2_components.singular_values_)"
   ]
  },
  {
   "attachments": {},
   "cell_type": "markdown",
   "metadata": {},
   "source": [
    "PCA with n_components=.995"
   ]
  },
  {
   "cell_type": "code",
   "execution_count": null,
   "metadata": {
    "is_executing": true
   },
   "outputs": [],
   "source": [
    "pca_995_varexpl=PCA(.995)\n",
    "data_pca_995_varexpl = pca_995_varexpl.fit_transform(pca_data)\n",
    "data_pca_995_varexpl.shape\n",
    "data_pca_995_varexpl"
   ]
  },
  {
   "cell_type": "code",
   "execution_count": null,
   "metadata": {
    "is_executing": true
   },
   "outputs": [],
   "source": [
    "df_pca_995 = pd.DataFrame(data_pca_995_varexpl)\n",
    "df_pca_995['cancer_type']=dataframe['Class']\n",
    "df_pca_995"
   ]
  },
  {
   "cell_type": "code",
   "execution_count": null,
   "metadata": {
    "is_executing": true
   },
   "outputs": [],
   "source": [
    "sns.scatterplot(x=0,y=1,hue = 'cancer_type', data=df_pca_995)\n",
    "# Move the hue legend to the top right corner\n",
    "plt.legend(loc='upper right', bbox_to_anchor=(1.4, 1), title=\"Cancer Type\", frameon=False)\n",
    "# Show the plot\n",
    "plt.show()"
   ]
  },
  {
   "cell_type": "code",
   "execution_count": null,
   "metadata": {
    "is_executing": true
   },
   "outputs": [],
   "source": [
    "# Compute the explained variance ratio\n",
    "explained_variance_ratio2 = pca_995_varexpl.explained_variance_ratio_\n",
    "explained_variance_ratio2\n",
    "# Sum the elements of the array\n",
    "var_sum = np.sum(explained_variance_ratio2)\n",
    "var_sum"
   ]
  },
  {
   "attachments": {},
   "cell_type": "markdown",
   "metadata": {},
   "source": [
    "pca with 0.8 variance explained"
   ]
  },
  {
   "cell_type": "code",
   "execution_count": null,
   "metadata": {
    "is_executing": true
   },
   "outputs": [],
   "source": [
    "pca_80_varexpl=PCA(.8)\n",
    "data_pca_80_varexpl = pca_80_varexpl.fit_transform(pca_data)\n",
    "data_pca_80_varexpl.shape\n",
    "data_pca_80_varexpl"
   ]
  },
  {
   "cell_type": "code",
   "execution_count": null,
   "metadata": {
    "is_executing": true
   },
   "outputs": [],
   "source": [
    "df_pca_8 = pd.DataFrame(data_pca_80_varexpl)\n",
    "df_pca_8['cancer_type']=dataframe['Class']\n",
    "df_pca_8"
   ]
  },
  {
   "cell_type": "code",
   "execution_count": null,
   "metadata": {
    "is_executing": true
   },
   "outputs": [],
   "source": [
    "sns.scatterplot(x=0,y=1,hue = 'cancer_type', data=df_pca_8)\n",
    "# Move the hue legend to the top right corner\n",
    "plt.legend(loc='upper right', bbox_to_anchor=(1.4, 1), title=\"Cancer Type\", frameon=False)\n",
    "# Show the plot\n",
    "plt.show()"
   ]
  },
  {
   "attachments": {},
   "cell_type": "markdown",
   "metadata": {},
   "source": [
    "### PCA implementation with statsmodels "
   ]
  },
  {
   "cell_type": "code",
   "execution_count": null,
   "metadata": {
    "is_executing": true
   },
   "outputs": [],
   "source": [
    "import numpy as np\n",
    "from statsmodels.multivariate.pca import PCA"
   ]
  },
  {
   "cell_type": "code",
   "execution_count": null,
   "metadata": {
    "is_executing": true
   },
   "outputs": [],
   "source": [
    "# Check for zero or near-zero variance features\n",
    "variances = np.var(pca_data, axis=0)\n",
    "near_zero_var_indices = np.where(variances < 1e-6)[0]\n",
    "if near_zero_var_indices.size > 0:\n",
    "    print(\"Features with near-zero variance found. Removing them...\")\n",
    "    data = np.delete(pca_data, near_zero_var_indices, axis=1)"
   ]
  },
  {
   "cell_type": "code",
   "execution_count": null,
   "metadata": {
    "is_executing": true
   },
   "outputs": [],
   "source": [
    "# Scale the data\n",
    "scaled_data = (data - np.mean(data, axis=0)) / np.std(data, axis=0)"
   ]
  },
  {
   "cell_type": "code",
   "execution_count": null,
   "metadata": {
    "is_executing": true
   },
   "outputs": [],
   "source": [
    "# check if standardization is correct (mean = 0, standarddeviation = 1)\n",
    "print(\"mean: \", np.mean(scaled_data))\n",
    "print(\"standarddeviation \", np.std(scaled_data))"
   ]
  },
  {
   "cell_type": "code",
   "execution_count": null,
   "metadata": {
    "is_executing": true
   },
   "outputs": [],
   "source": [
    "# Perform PCA with two components\n",
    "pca_stats = PCA(scaled_data, ncomp=2)\n",
    "pca_stats"
   ]
  },
  {
   "cell_type": "code",
   "execution_count": null,
   "metadata": {
    "is_executing": true
   },
   "outputs": [],
   "source": [
    "# Get the eigenvalues and eigenvectors\n",
    "eigenvalues = pca_stats.eigenvals\n",
    "eigenvectors = pca_stats.eigenvecs"
   ]
  },
  {
   "cell_type": "code",
   "execution_count": null,
   "metadata": {
    "is_executing": true
   },
   "outputs": [],
   "source": [
    "# Display eigenvalues and eigenvectors\n",
    "print(\"Eigenvalues:\")\n",
    "print(eigenvalues)\n",
    "\n",
    "print(\"Eigenvectors:\")\n",
    "print(eigenvectors)"
   ]
  },
  {
   "cell_type": "code",
   "execution_count": null,
   "metadata": {
    "is_executing": true
   },
   "outputs": [],
   "source": [
    "# Get the transformed data\n",
    "transformed_data = pca_stats.factors\n",
    "transformed_data"
   ]
  },
  {
   "cell_type": "code",
   "execution_count": null,
   "metadata": {
    "is_executing": true
   },
   "outputs": [],
   "source": [
    "transformed_data.shape"
   ]
  },
  {
   "attachments": {},
   "cell_type": "markdown",
   "metadata": {},
   "source": [
    "plot the first two components"
   ]
  },
  {
   "cell_type": "code",
   "execution_count": null,
   "metadata": {
    "is_executing": true
   },
   "outputs": [],
   "source": [
    "# Put the data back on the 2 columns defined \n",
    "transformed_df = pd.DataFrame(transformed_data)\n",
    "# Add the convereted categorical data for \n",
    "transformed_df['cancer_type']=dataframe['Class']\n",
    "transformed_df"
   ]
  },
  {
   "cell_type": "code",
   "execution_count": null,
   "metadata": {
    "is_executing": true
   },
   "outputs": [],
   "source": [
    "sns.scatterplot(x=0,y=1,hue = 'cancer_type', data=transformed_df)\n",
    "# Move the hue legend to the top right corner\n",
    "plt.legend(loc='upper right', bbox_to_anchor=(1.4, 1), title=\"Cancer Type\", frameon=False)\n",
    "# Show the plot\n",
    "plt.show()"
   ]
  },
  {
   "attachments": {},
   "cell_type": "markdown",
   "metadata": {},
   "source": [
    "explained variance at 95%"
   ]
  },
  {
   "cell_type": "code",
   "execution_count": null,
   "metadata": {
    "is_executing": true
   },
   "outputs": [],
   "source": [
    "# Perform PCA\n",
    "pca_stats_95 = PCA(scaled_data)\n",
    "\n",
    "# Compute explained variance ratios\n",
    "explained_variances = pca_stats_95.eigenvals / np.sum(pca_stats_95.eigenvals)\n",
    "\n",
    "# Determine the number of components needed for 95% explained variance\n",
    "cumulative_variance = np.cumsum(explained_variances)\n",
    "num_components = np.argmax(cumulative_variance >= 0.95) + 1\n",
    "\n",
    "# Print the number of components needed\n",
    "print(\"Number of components for 95% explained variance:\", num_components)"
   ]
  },
  {
   "cell_type": "code",
   "execution_count": null,
   "metadata": {
    "is_executing": true
   },
   "outputs": [],
   "source": [
    "# Get the eigenvalues and eigenvectors\n",
    "eigenvalues1 = pca_stats_95.eigenvals\n",
    "eigenvectors1 = pca_stats_95.eigenvecs"
   ]
  },
  {
   "cell_type": "code",
   "execution_count": null,
   "metadata": {
    "is_executing": true
   },
   "outputs": [],
   "source": [
    "# Display eigenvalues and eigenvectors\n",
    "print(\"Eigenvalues:\")\n",
    "print(eigenvalues1)\n",
    "\n",
    "print(\"Eigenvectors:\")\n",
    "print(eigenvectors1)"
   ]
  },
  {
   "cell_type": "code",
   "execution_count": null,
   "metadata": {
    "is_executing": true
   },
   "outputs": [],
   "source": [
    "# Get the transformed data\n",
    "transformed_data_95 = pca_stats_95.factors\n",
    "transformed_data_95"
   ]
  },
  {
   "cell_type": "code",
   "execution_count": null,
   "metadata": {
    "is_executing": true
   },
   "outputs": [],
   "source": [
    "# Put the data back on the 2 columns defined \n",
    "transformed_95_df = pd.DataFrame(transformed_data_95)\n",
    "# Add the convereted categorical data for \n",
    "transformed_95_df['cancer_type']=dataframe['Class']\n",
    "transformed_95_df"
   ]
  },
  {
   "cell_type": "code",
   "execution_count": null,
   "metadata": {
    "is_executing": true
   },
   "outputs": [],
   "source": [
    "sns.scatterplot(x=0,y=1,hue = 'cancer_type', data=transformed_df)\n",
    "# Move the hue legend to the top right corner\n",
    "plt.legend(loc='upper right', bbox_to_anchor=(1.4, 1), title=\"Cancer Type\", frameon=False)\n",
    "# Show the plot\n",
    "plt.show()"
   ]
  },
  {
   "attachments": {},
   "cell_type": "markdown",
   "metadata": {},
   "source": [
    "### Compare Own PCA and libaries"
   ]
  },
  {
   "cell_type": "code",
   "execution_count": null,
   "metadata": {
    "is_executing": true
   },
   "outputs": [],
   "source": [
    "# own PCA for two components\n",
    "from dataimport import random_sample\n",
    "from our_pca import our_pca\n",
    "\n",
    "scaled_dataframe = pd.DataFrame(scaled_data)\n",
    "\n",
    "n_components = 2\n",
    "data = random_sample(scaled_dataframe, 801, 2000)\n",
    "own_pca = our_pca(data, n_components)"
   ]
  },
  {
   "cell_type": "code",
   "execution_count": null,
   "metadata": {
    "is_executing": true
   },
   "outputs": [],
   "source": [
    "own_eigenvalues, own_eigenvectors = own_pca\n",
    "\n",
    "# Display eigenvalues and eigenvectors\n",
    "print(\"Eigenvalues:\")\n",
    "print(own_eigenvalues)\n",
    "\n",
    "print(\"Eigenvectors:\")\n",
    "print(own_eigenvectors)"
   ]
  },
  {
   "cell_type": "code",
   "execution_count": null,
   "metadata": {
    "is_executing": true
   },
   "outputs": [],
   "source": [
    "#put own eigenvectors into a DataFrame while only using the real numbers from the given complex numbers\n",
    "own_eigenvectors_df = pd.DataFrame(own_eigenvectors)\n",
    "own_eigenvectors_df\n",
    "own_eig_df = pd.DataFrame()\n",
    "own_eig_df['eigenvec_0'] = own_eigenvectors_df[0].to_numpy().real\n",
    "own_eig_df['eigenvec_1'] = own_eigenvectors_df[1].to_numpy().real\n",
    "own_eig_df"
   ]
  },
  {
   "attachments": {},
   "cell_type": "markdown",
   "metadata": {},
   "source": [
    "#### own PCA and statsmodels\n",
    "comparison statsmodels on smaller dataset"
   ]
  },
  {
   "cell_type": "code",
   "execution_count": null,
   "metadata": {
    "is_executing": true
   },
   "outputs": [],
   "source": [
    "from statsmodels.multivariate.pca import PCA"
   ]
  },
  {
   "cell_type": "code",
   "execution_count": null,
   "metadata": {
    "is_executing": true
   },
   "outputs": [],
   "source": [
    "# Perform PCA with two components\n",
    "pca_stats_sample = PCA(data, ncomp=2)\n",
    "pca_stats_sample"
   ]
  },
  {
   "cell_type": "code",
   "execution_count": null,
   "metadata": {
    "is_executing": true
   },
   "outputs": [],
   "source": [
    "# Get the eigenvalues and eigenvectors\n",
    "eigenvalues_sample = pca_stats_sample.eigenvals\n",
    "eigenvectors_sample = pca_stats_sample.eigenvecs\n",
    "\n",
    "# Display eigenvalues and eigenvectors\n",
    "print(\"Eigenvalues:\")\n",
    "print(eigenvalues_sample)\n",
    "\n",
    "print(\"Eigenvectors:\")\n",
    "print(eigenvectors_sample)"
   ]
  },
  {
   "attachments": {},
   "cell_type": "markdown",
   "metadata": {},
   "source": [
    "check if the outputs from our PCA and statsmodels are the same"
   ]
  },
  {
   "cell_type": "code",
   "execution_count": null,
   "metadata": {
    "is_executing": true
   },
   "outputs": [],
   "source": [
    "# Check if the eigenvectors contain the same values\n",
    "check_df = abs(eigenvectors_sample - own_eig_df)\n",
    "check_df"
   ]
  },
  {
   "cell_type": "code",
   "execution_count": null,
   "metadata": {
    "is_executing": true
   },
   "outputs": [],
   "source": [
    "# Check if values in the DataFrame are nearly zero\n",
    "is_close_to_zero = np.isclose(check_df, 0.0, atol=1e-10)\n",
    "is_close_to_zero"
   ]
  },
  {
   "cell_type": "code",
   "execution_count": null,
   "metadata": {
    "is_executing": true
   },
   "outputs": [],
   "source": [
    "# Check if all values in the array are True\n",
    "np.all(is_close_to_zero)"
   ]
  },
  {
   "attachments": {},
   "cell_type": "markdown",
   "metadata": {},
   "source": [
    "#### own PCA and sklearn\n",
    "comparison sklearn on smaller dataset"
   ]
  },
  {
   "cell_type": "code",
   "execution_count": null,
   "metadata": {
    "is_executing": true
   },
   "outputs": [],
   "source": [
    "from sklearn.decomposition import PCA"
   ]
  },
  {
   "cell_type": "code",
   "execution_count": null,
   "metadata": {
    "is_executing": true
   },
   "outputs": [],
   "source": [
    "# define number of components as 2 \n",
    "pca_sk_sample=PCA(n_components=2)\n",
    "pca_sk_sample.fit(data)"
   ]
  },
  {
   "cell_type": "code",
   "execution_count": null,
   "metadata": {
    "is_executing": true
   },
   "outputs": [],
   "source": [
    "eigenvectors_sk_sample = pca_sk_sample.components_\n",
    "eigenvectors_sk_sample"
   ]
  },
  {
   "cell_type": "code",
   "execution_count": null,
   "metadata": {
    "is_executing": true
   },
   "outputs": [],
   "source": [
    "#put own eigenvectors into a DataFrame while only using the real numbers from the given complex numbers\n",
    "eigenvectors_sk_df = pd.DataFrame(eigenvectors_sk_sample.transpose())\n",
    "# Rename columns\n",
    "eigenvectors_sk_df = eigenvectors_sk_df.set_axis(['eigenvec_0', 'eigenvec_1'],  axis=1)\n",
    "eigenvectors_sk_df\n"
   ]
  },
  {
   "attachments": {},
   "cell_type": "markdown",
   "metadata": {},
   "source": [
    "check if the outputs from our PCA and sklearn are the same"
   ]
  },
  {
   "cell_type": "code",
   "execution_count": null,
   "metadata": {
    "is_executing": true
   },
   "outputs": [],
   "source": [
    "# Check if the eigenvectors contain the same values\n",
    "check_df2 = abs(eigenvectors_sk_df - own_eig_df)\n",
    "check_df2"
   ]
  },
  {
   "cell_type": "code",
   "execution_count": null,
   "metadata": {
    "is_executing": true
   },
   "outputs": [],
   "source": [
    "# Check if values in the DataFrame are nearly zero\n",
    "is_close_to_zero2 = np.isclose(check_df2, 0.0, atol=1e-10)\n",
    "is_close_to_zero2"
   ]
  },
  {
   "cell_type": "code",
   "execution_count": null,
   "metadata": {
    "is_executing": true
   },
   "outputs": [],
   "source": [
    "# Check if all values in the array are True\n",
    "np.all(is_close_to_zero2)"
   ]
  },
  {
   "attachments": {},
   "cell_type": "markdown",
   "metadata": {},
   "source": [
    "## Classification using Decision Tree"
   ]
  },
  {
   "cell_type": "code",
   "execution_count": null,
   "metadata": {
    "is_executing": true
   },
   "outputs": [],
   "source": [
    "from sklearn.model_selection import train_test_split\n",
    "from sklearn.tree import DecisionTreeClassifier\n",
    "from sklearn.decomposition import PCA\n",
    "from sklearn.metrics import accuracy_score, precision_score, recall_score\n",
    "# from sklearn.datasets import load_iris"
   ]
  },
  {
   "cell_type": "code",
   "execution_count": null,
   "metadata": {
    "is_executing": true
   },
   "outputs": [],
   "source": [
    "# load data\n",
    "# rausnehmen: dc = pca_data_2comp_unscaled\n",
    "\n",
    "# initiate pca and classifier\n",
    "pca = PCA()\n",
    "classifier = DecisionTreeClassifier()"
   ]
  },
  {
   "attachments": {},
   "cell_type": "markdown",
   "metadata": {},
   "source": [
    "Train decision tree with original data"
   ]
  },
  {
   "cell_type": "code",
   "execution_count": null,
   "metadata": {
    "is_executing": true
   },
   "outputs": [],
   "source": [
    "# Split the transformed data set\n",
    "y = dataframe['Class']\n",
    "X_train, X_test, y_train, y_test = train_test_split(X, y, test_size=0.2, random_state=42)"
   ]
  },
  {
   "cell_type": "code",
   "execution_count": null,
   "metadata": {
    "is_executing": true
   },
   "outputs": [],
   "source": [
    "# apply pca\n",
    "transformed_data = pca.fit_transform(X_train)"
   ]
  },
  {
   "cell_type": "code",
   "execution_count": null,
   "metadata": {
    "is_executing": true
   },
   "outputs": [],
   "source": [
    "# Fit the data\n",
    "classifier.fit(X_train, y_train)"
   ]
  },
  {
   "cell_type": "code",
   "execution_count": null,
   "metadata": {
    "is_executing": true
   },
   "outputs": [],
   "source": [
    "# predict new data\n",
    "newdata = X_test\n",
    "# transform newdata using fitted pca\n",
    "newdata_transformed = pca.transform(newdata)\n",
    "# predict labels with trained classifier\n",
    "pred_labels = classifier.predict(newdata)\n",
    "\n",
    "pred_labels"
   ]
  },
  {
   "cell_type": "code",
   "execution_count": null,
   "metadata": {
    "is_executing": true
   },
   "outputs": [],
   "source": [
    "# Evaluating the accuracy\n",
    "accuracy = accuracy_score(y_test, pred_labels)\n",
    "precision = precision_score(y_test, pred_labels, average='macro')\n",
    "recall = recall_score(y_test, pred_labels, average='macro')\n",
    "f1 = 2*precision*recall / (precision+recall)\n",
    "print(f\"Accuracy: {accuracy}\")\n",
    "print(f\"Precision: {precision}\")\n",
    "print(f\"Recall: {recall}\")\n",
    "print(f\"F1: {f1}\")"
   ]
  },
  {
   "cell_type": "code",
   "execution_count": null,
   "metadata": {
    "is_executing": true
   },
   "outputs": [],
   "source": [
    "#TODO Needs to be fixed!\n",
    "\n",
    "# Plotting the classified data\n",
    "plt.scatter(transformed_data[:, 0], transformed_data[:, 1])\n",
    "plt.xlabel('Principal Component 1')\n",
    "plt.ylabel('Principal Component 2')\n",
    "plt.title('Classified Data')\n",
    "plt.scatter(newdata_transformed[:, 0], newdata_transformed[:, 1], c=y_test)\n",
    "plt.show()"
   ]
  },
  {
   "attachments": {},
   "cell_type": "markdown",
   "metadata": {},
   "source": [
    "train decisiontree with data from PCA"
   ]
  },
  {
   "cell_type": "code",
   "execution_count": 54,
   "metadata": {
    "ExecuteTime": {
     "end_time": "2023-06-29T12:20:10.593424Z",
     "start_time": "2023-06-29T12:20:10.450654Z"
    }
   },
   "outputs": [
    {
     "ename": "NameError",
     "evalue": "name 'X_train' is not defined",
     "output_type": "error",
     "traceback": [
      "\u001B[0;31m---------------------------------------------------------------------------\u001B[0m",
      "\u001B[0;31mNameError\u001B[0m                                 Traceback (most recent call last)",
      "Cell \u001B[0;32mIn[54], line 2\u001B[0m\n\u001B[1;32m      1\u001B[0m \u001B[38;5;66;03m# apply pca\u001B[39;00m\n\u001B[0;32m----> 2\u001B[0m transformed_data \u001B[38;5;241m=\u001B[39m pca\u001B[38;5;241m.\u001B[39mfit_transform(\u001B[43mX_train\u001B[49m)\n",
      "\u001B[0;31mNameError\u001B[0m: name 'X_train' is not defined"
     ]
    }
   ],
   "source": [
    "# apply pca\n",
    "transformed_data = pca.fit_transform(X_train)"
   ]
  },
  {
   "cell_type": "code",
   "execution_count": null,
   "metadata": {
    "is_executing": true
   },
   "outputs": [],
   "source": [
    "# Fit the data\n",
    "classifier.fit(transformed_data, y_train)"
   ]
  },
  {
   "cell_type": "code",
   "execution_count": null,
   "metadata": {
    "is_executing": true
   },
   "outputs": [],
   "source": [
    "# predict new data\n",
    "newdata = X_test\n",
    "# transform newdata using fitted pca\n",
    "newdata_transformed = pca.transform(newdata)\n",
    "# predict labels with trained classifier\n",
    "pred_labels = classifier.predict(newdata_transformed)\n",
    "\n",
    "pred_labels"
   ]
  },
  {
   "cell_type": "code",
   "execution_count": null,
   "metadata": {
    "is_executing": true
   },
   "outputs": [],
   "source": [
    "# Evaluating the accuracy\n",
    "accuracy = accuracy_score(y_test, pred_labels)\n",
    "precision = precision_score(y_test, pred_labels, average='macro')\n",
    "recall = recall_score(y_test, pred_labels, average='macro')\n",
    "f1 = 2*precision*recall / (precision+recall)\n",
    "print(f\"Accuracy: {accuracy}\")\n",
    "print(f\"Precision: {precision}\")\n",
    "print(f\"Recall: {recall}\")\n",
    "print(f\"F1: {f1}\")"
   ]
  },
  {
   "cell_type": "code",
   "execution_count": null,
   "metadata": {
    "is_executing": true
   },
   "outputs": [],
   "source": [
    "# Plotting the classified data\n",
    "plt.scatter(newdata_transformed[:, 0], newdata_transformed[:, 1])\n",
    "plt.xlabel('Principal Component 1')\n",
    "plt.ylabel('Principal Component 2')\n",
    "plt.title('Classified Data')\n",
    "plt.scatter(newdata_transformed[:, 0], newdata_transformed[:, 1], c=y_test)\n",
    "plt.show()"
   ]
  }
 ],
 "metadata": {
  "kernelspec": {
   "display_name": "fmi08icds",
   "language": "python",
   "name": "python3"
  },
  "language_info": {
   "codemirror_mode": {
    "name": "ipython",
    "version": 3
   },
   "file_extension": ".py",
   "mimetype": "text/x-python",
   "name": "python",
   "nbconvert_exporter": "python",
   "pygments_lexer": "ipython3",
   "version": "3.11.3"
  },
  "orig_nbformat": 4
 },
 "nbformat": 4,
 "nbformat_minor": 2
}
