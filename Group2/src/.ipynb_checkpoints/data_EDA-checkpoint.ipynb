{
 "cells": [
  {
   "cell_type": "code",
   "execution_count": 47,
   "id": "abbe458d",
   "metadata": {},
   "outputs": [],
   "source": [
    "import pandas as pd \n",
    "import numpy as np \n",
    "import matplotlib.pyplot as plt \n",
    "import seaborn as sns"
   ]
  },
  {
   "cell_type": "code",
   "execution_count": 32,
   "id": "ea816722",
   "metadata": {},
   "outputs": [
    {
     "name": "stdout",
     "output_type": "stream",
     "text": [
      "The data has 100000 rows and 9 columns\n"
     ]
    }
   ],
   "source": [
    "data = pd.read_csv(\"../data/diabetes_prediction_dataset.csv\")\n",
    "r,c = data.shape\n",
    "print(\"The data has {} rows and {} columns\".format(r,c))"
   ]
  },
  {
   "cell_type": "code",
   "execution_count": 52,
   "id": "f40377ef",
   "metadata": {},
   "outputs": [
    {
     "data": {
      "text/html": [
       "<div>\n",
       "<style scoped>\n",
       "    .dataframe tbody tr th:only-of-type {\n",
       "        vertical-align: middle;\n",
       "    }\n",
       "\n",
       "    .dataframe tbody tr th {\n",
       "        vertical-align: top;\n",
       "    }\n",
       "\n",
       "    .dataframe thead th {\n",
       "        text-align: right;\n",
       "    }\n",
       "</style>\n",
       "<table border=\"1\" class=\"dataframe\">\n",
       "  <thead>\n",
       "    <tr style=\"text-align: right;\">\n",
       "      <th></th>\n",
       "      <th>gender</th>\n",
       "      <th>age</th>\n",
       "      <th>hypertension</th>\n",
       "      <th>heart_disease</th>\n",
       "      <th>smoking_history</th>\n",
       "      <th>bmi</th>\n",
       "      <th>HbA1c_level</th>\n",
       "      <th>blood_glucose_level</th>\n",
       "      <th>diabetes</th>\n",
       "    </tr>\n",
       "  </thead>\n",
       "  <tbody>\n",
       "    <tr>\n",
       "      <th>0</th>\n",
       "      <td>Female</td>\n",
       "      <td>80.0</td>\n",
       "      <td>0</td>\n",
       "      <td>1</td>\n",
       "      <td>never</td>\n",
       "      <td>25.19</td>\n",
       "      <td>6.6</td>\n",
       "      <td>140</td>\n",
       "      <td>0</td>\n",
       "    </tr>\n",
       "    <tr>\n",
       "      <th>1</th>\n",
       "      <td>Female</td>\n",
       "      <td>54.0</td>\n",
       "      <td>0</td>\n",
       "      <td>0</td>\n",
       "      <td>No Info</td>\n",
       "      <td>27.32</td>\n",
       "      <td>6.6</td>\n",
       "      <td>80</td>\n",
       "      <td>0</td>\n",
       "    </tr>\n",
       "    <tr>\n",
       "      <th>2</th>\n",
       "      <td>Male</td>\n",
       "      <td>28.0</td>\n",
       "      <td>0</td>\n",
       "      <td>0</td>\n",
       "      <td>never</td>\n",
       "      <td>27.32</td>\n",
       "      <td>5.7</td>\n",
       "      <td>158</td>\n",
       "      <td>0</td>\n",
       "    </tr>\n",
       "    <tr>\n",
       "      <th>3</th>\n",
       "      <td>Female</td>\n",
       "      <td>36.0</td>\n",
       "      <td>0</td>\n",
       "      <td>0</td>\n",
       "      <td>current</td>\n",
       "      <td>23.45</td>\n",
       "      <td>5.0</td>\n",
       "      <td>155</td>\n",
       "      <td>0</td>\n",
       "    </tr>\n",
       "    <tr>\n",
       "      <th>4</th>\n",
       "      <td>Male</td>\n",
       "      <td>76.0</td>\n",
       "      <td>1</td>\n",
       "      <td>1</td>\n",
       "      <td>current</td>\n",
       "      <td>20.14</td>\n",
       "      <td>4.8</td>\n",
       "      <td>155</td>\n",
       "      <td>0</td>\n",
       "    </tr>\n",
       "  </tbody>\n",
       "</table>\n",
       "</div>"
      ],
      "text/plain": [
       "   gender   age hypertension heart_disease smoking_history    bmi HbA1c_level   \n",
       "0  Female  80.0            0             1           never  25.19         6.6  \\\n",
       "1  Female  54.0            0             0         No Info  27.32         6.6   \n",
       "2    Male  28.0            0             0           never  27.32         5.7   \n",
       "3  Female  36.0            0             0         current  23.45         5.0   \n",
       "4    Male  76.0            1             1         current  20.14         4.8   \n",
       "\n",
       "  blood_glucose_level  diabetes  \n",
       "0                 140         0  \n",
       "1                  80         0  \n",
       "2                 158         0  \n",
       "3                 155         0  \n",
       "4                 155         0  "
      ]
     },
     "execution_count": 52,
     "metadata": {},
     "output_type": "execute_result"
    }
   ],
   "source": [
    "data.head()"
   ]
  },
  {
   "cell_type": "code",
   "execution_count": 34,
   "id": "ff6a567a",
   "metadata": {},
   "outputs": [
    {
     "data": {
      "text/plain": [
       "gender                  object\n",
       "age                    float64\n",
       "hypertension             int64\n",
       "heart_disease            int64\n",
       "smoking_history         object\n",
       "bmi                    float64\n",
       "HbA1c_level            float64\n",
       "blood_glucose_level      int64\n",
       "diabetes                 int64\n",
       "dtype: object"
      ]
     },
     "execution_count": 34,
     "metadata": {},
     "output_type": "execute_result"
    }
   ],
   "source": [
    "data.dtypes"
   ]
  },
  {
   "cell_type": "code",
   "execution_count": 35,
   "id": "1b5034b4",
   "metadata": {},
   "outputs": [
    {
     "name": "stdout",
     "output_type": "stream",
     "text": [
      "Unique values in column 'gender' :\n",
      "['Female' 'Male' 'Other']\n",
      "\n",
      "Unique values in column 'age' :\n",
      "[80.   54.   28.   36.   76.   20.   44.   79.   42.   32.   53.   78.\n",
      " 67.   15.   37.   40.    5.   69.   72.    4.   30.   45.   43.   50.\n",
      " 41.   26.   34.   73.   77.   66.   29.   60.   38.    3.   57.   74.\n",
      " 19.   46.   21.   59.   27.   13.   56.    2.    7.   11.    6.   55.\n",
      "  9.   62.   47.   12.   68.   75.   22.   58.   18.   24.   17.   25.\n",
      "  0.08 33.   16.   61.   31.    8.   49.   39.   65.   14.   70.    0.56\n",
      " 48.   51.   71.    0.88 64.   63.   52.    0.16 10.   35.   23.    0.64\n",
      "  1.16  1.64  0.72  1.88  1.32  0.8   1.24  1.    1.8   0.48  1.56  1.08\n",
      "  0.24  1.4   0.4   0.32  1.72  1.48]\n",
      "\n",
      "Unique values in column 'hypertension' :\n",
      "[0 1]\n",
      "\n",
      "Unique values in column 'heart_disease' :\n",
      "[1 0]\n",
      "\n",
      "Unique values in column 'smoking_history' :\n",
      "['never' 'No Info' 'current' 'former' 'ever' 'not current']\n",
      "\n",
      "Unique values in column 'bmi' :\n",
      "[25.19 27.32 23.45 ... 59.42 44.39 60.52]\n",
      "\n",
      "Unique values in column 'HbA1c_level' :\n",
      "[6.6 5.7 5.  4.8 6.5 6.1 6.  5.8 3.5 6.2 4.  4.5 9.  7.  8.8 8.2 7.5 6.8]\n",
      "\n",
      "Unique values in column 'blood_glucose_level' :\n",
      "[140  80 158 155  85 200 145 100 130 160 126 159  90 260 220 300 280 240]\n",
      "\n",
      "Unique values in column 'diabetes' :\n",
      "[0 1]\n",
      "\n"
     ]
    }
   ],
   "source": [
    "for column in data.columns: \n",
    "    unique_values = data[column].unique()\n",
    "    print(f\"Unique values in column '{column}' :\")\n",
    "    print(unique_values)\n",
    "    print()"
   ]
  },
  {
   "cell_type": "code",
   "execution_count": 36,
   "id": "667a0260",
   "metadata": {},
   "outputs": [],
   "source": [
    "# Changing Hypertension and heart_disease into a categorical variable\n",
    "data['hypertension'] = data['hypertension'].apply(str)\n",
    "data['heart_disease'] = data['heart_disease'].apply(str)\n",
    "data['HbA1c_level'] = data['HbA1c_level'].apply(str)\n",
    "data['blood_glucose_level'] = data['blood_glucose_level'].apply(str)"
   ]
  },
  {
   "cell_type": "markdown",
   "id": "13816dd1",
   "metadata": {},
   "source": [
    "## Handling missing data "
   ]
  },
  {
   "cell_type": "code",
   "execution_count": 46,
   "id": "f5923e17",
   "metadata": {},
   "outputs": [
    {
     "name": "stdout",
     "output_type": "stream",
     "text": [
      "The data has: 0 columns that have missing values\n"
     ]
    }
   ],
   "source": [
    "data_missing = data.loc[:, data.isna().any()]\n",
    "\n",
    "print(\"The data has: {} columns that have missing values\".format(len(data_missing.columns)))"
   ]
  },
  {
   "cell_type": "markdown",
   "id": "e50db128",
   "metadata": {},
   "source": [
    "## Correlation with the \"diabetes\" column"
   ]
  },
  {
   "cell_type": "markdown",
   "id": "def13739",
   "metadata": {},
   "source": [
    "#### Age"
   ]
  },
  {
   "cell_type": "code",
   "execution_count": 50,
   "id": "fde835b7",
   "metadata": {},
   "outputs": [
    {
     "data": {
      "image/png": "[encoded data removed]",
      "text/plain": [
       "<Figure size 432x288 with 1 Axes>"
      ]
     },
     "metadata": {
      "needs_background": "light"
     },
     "output_type": "display_data"
    }
   ],
   "source": [
    "# Box plot \n",
    "sns.boxplot(x = 'diabetes', y = 'age' , data= data)\n",
    "plt.xlabel('Categorical Feature')\n",
    "plt.ylabel('Age')\n",
    "plt.title('Correlation between age and diabetes')\n",
    "plt.show()"
   ]
  },
  {
   "cell_type": "markdown",
   "id": "5b69ef54",
   "metadata": {},
   "source": [
    "#### Gender"
   ]
  },
  {
   "cell_type": "code",
   "execution_count": 69,
   "id": "4c254f71",
   "metadata": {},
   "outputs": [
    {
     "data": {
      "image/png": "[encoded data removed]",
      "text/plain": [
       "<Figure size 432x288 with 1 Axes>"
      ]
     },
     "metadata": {
      "needs_background": "light"
     },
     "output_type": "display_data"
    }
   ],
   "source": [
    "# Create a cross-tabulation of the two categorical variables \n",
    "cross_tab = pd.crosstab(data['gender'],data['diabetes'])\n",
    "\n",
    "# Plotting the grouped bar plot \n",
    "cross_tab.plot(kind = 'bar', stacked= False)\n",
    "plt.xlabel('Gender')\n",
    "plt.ylabel('Count')\n",
    "plt.title('Correaltion between Gender and Diabetes')\n",
    "plt.legend(title='Diabetes', loc='upper right')\n",
    "plt.show()"
   ]
  },
  {
   "cell_type": "markdown",
   "id": "96f22c74",
   "metadata": {},
   "source": [
    "#### hypertension"
   ]
  },
  {
   "cell_type": "code",
   "execution_count": 77,
   "id": "5c346c71",
   "metadata": {},
   "outputs": [
    {
     "data": {
      "image/png": "[encoded data removed]",
      "text/plain": [
       "<Figure size 432x288 with 1 Axes>"
      ]
     },
     "metadata": {
      "needs_background": "light"
     },
     "output_type": "display_data"
    }
   ],
   "source": [
    "# Create a cross-tabulation of the two categorical variables\n",
    "cross_tab = pd.crosstab(data['hypertension'], data['diabetes'])\n",
    "\n",
    "# Calculate the percentage for each category combination\n",
    "cross_tab_percent = cross_tab.apply(lambda x: x / x.sum(), axis=1)\n",
    "\n",
    "# Plotting the non-stacked percentage bar plot with value annotations\n",
    "ax = cross_tab_percent.plot(kind='bar', stacked=False)\n",
    "plt.xlabel('Gender')\n",
    "plt.ylabel('Percentage')\n",
    "plt.title('Relative Correlation between hypertension and Diabetes')\n",
    "plt.legend(title='Diabetes', loc='upper right')\n",
    "\n",
    "# Add value annotations above each bar\n",
    "for i, bar in enumerate(ax.patches):\n",
    "    x = bar.get_x() + bar.get_width() / 2\n",
    "    y = bar.get_height()\n",
    "    value = f'{cross_tab_percent.iloc[i // 2, i % 2]:.1%}'\n",
    "    ax.text(x, y, value, ha='center', va='bottom')\n",
    "\n",
    "plt.show()"
   ]
  },
  {
   "cell_type": "code",
   "execution_count": null,
   "id": "a5ebf263",
   "metadata": {},
   "outputs": [],
   "source": []
  },
  {
   "cell_type": "code",
   "execution_count": null,
   "id": "9e09df97",
   "metadata": {},
   "outputs": [],
   "source": []
  },
  {
   "cell_type": "code",
   "execution_count": null,
   "id": "f6a97e6b",
   "metadata": {},
   "outputs": [],
   "source": []
  }
 ],
 "metadata": {
  "kernelspec": {
   "display_name": "Python 3 (ipykernel)",
   "language": "python",
   "name": "python3"
  },
  "language_info": {
   "codemirror_mode": {
    "name": "ipython",
    "version": 3
   },
   "file_extension": ".py",
   "mimetype": "text/x-python",
   "name": "python",
   "nbconvert_exporter": "python",
   "pygments_lexer": "ipython3",
   "version": "3.9.7"
  }
 },
 "nbformat": 4,
 "nbformat_minor": 5
}
