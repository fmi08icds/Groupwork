{
 "cells": [
  {
   "attachments": {},
   "cell_type": "markdown",
   "id": "73c9ece7",
   "metadata": {},
   "source": [
    "# Group 4 - Clustering"
   ]
  },
  {
   "cell_type": "code",
   "execution_count": 2,
   "id": "3b93ba3d-5adb-4148-9727-10eab463141d",
   "metadata": {},
   "outputs": [
    {
     "name": "stdout",
     "output_type": "stream",
     "text": [
      "Hello World\n"
     ]
    }
   ],
   "source": [
    "print(\"Hello World\")"
   ]
  }
 ],
 "metadata": {
  "kernelspec": {
   "display_name": "Python 3 (ipykernel)",
   "language": "python",
   "name": "python3"
  },
  "language_info": {
   "codemirror_mode": {
    "name": "ipython",
    "version": 3
   },
   "file_extension": ".py",
   "mimetype": "text/x-python",
   "name": "python",
   "nbconvert_exporter": "python",
   "pygments_lexer": "ipython3",
   "version": "3.11.3"
  }
 },
 "nbformat": 4,
 "nbformat_minor": 5
}
