{
 "cells": [
  {
   "cell_type": "code",
   "execution_count": 2,
   "id": "7903d3b8-c29b-4730-b262-6277c7afa655",
   "metadata": {
    "tags": []
   },
   "outputs": [],
   "source": [
    "# See README for in-depth explanation of this notebook"
   ]
  },
  {
   "cell_type": "code",
   "execution_count": null,
   "id": "500c1e32-9eb8-430f-8d14-265a32989a43",
   "metadata": {},
   "outputs": [],
   "source": [
    "import numpy as np \n",
    "\n",
    "def simple_uniform(f, N, range, rho): \n",
    "    \"\"\"\n",
    "    Simple method. Given an input function, generate a dataset with a uniform fuzz. \n",
    "    \n",
    "    f (func): python lambda function to model \n",
    "    N (int): number of datapoints\n",
    "    range (tuple): interval for input data. \n",
    "    rho (int): noise scaling factor on y-values rho \\in (0,1] -> Think of this as the amplitude of the output data \n",
    "\n",
    "    Returns: \n",
    "        x (np array): x-values \n",
    "        y (np array): generated y-values\n",
    "    \"\"\"\n",
    "    # retrieve range\n",
    "    a,b = range\n",
    "    assert a <= b, f\"invalid range, expected (a,b) with a <= b, got a = {a}, b = {b}\"     \n",
    "\n",
    "    # create uniform x-value distribution, compute function values \n",
    "    x = np.random.default_rng().uniform(a,b,N)\n",
    "    y_pre = f(x)\n",
    "\n",
    "    # scale the fuzz given rho input \n",
    "    # create and apply uniform noise to each value \n",
    "    # TODO: think about how to scale amount of fuzz. For now using interval length. Maybe a better idea: min and max value of function within range\n",
    "    min = np.min(y_pre)\n",
    "    max = np.max(y_pre) \n",
    "    \n",
    "    scale = rho*(max - min)\n",
    "    \n",
    "    fuzz = np.random.default_rng().uniform(0, scale, N)\n",
    "    \n",
    "    stretch = np.random.default_rng().choice([-1,1],N) # vector of -1's and 1's to fuzz in both directions \n",
    "    fuzz = fuzz * stretch \n",
    "    y = y_pre + fuzz \n",
    "\n",
    "    return x,y \n",
    "\n",
    "    \n",
    "    "
   ]
  },
  {
   "cell_type": "code",
   "execution_count": 101,
   "id": "5aacd3cb-70f1-483b-b870-d77d4e8ee6fe",
   "metadata": {
    "tags": []
   },
   "outputs": [],
   "source": [
    "import numpy as np \n",
    "\n",
    "# Different methods for regression data generations (See README) \n",
    "# Start with 2D and think about scaling to n-dim \n",
    "\n",
    "\n",
    "\n",
    "def method_1(slope, intercept, indep_dist, dep_dist, n):\n",
    "# TODO: include a parameter to scale the data bounds.\n",
    "    \"\"\"\n",
    "    Write docstr\n",
    "    \"\"\" \n",
    "    \n",
    "    pass \n"
   ]
  },
  {
   "cell_type": "code",
   "execution_count": 102,
   "id": "a2403a3a-bd50-4b99-b1f7-c4315fd927b6",
   "metadata": {},
   "outputs": [],
   "source": [
    "f = lambda x : 2*x+3\n",
    "rho = 0.2\n",
    "range = (0,100)\n",
    "N = 100\n"
   ]
  },
  {
   "cell_type": "code",
   "execution_count": 103,
   "id": "e6cdfc05-1b83-48d7-9ad5-7ba62eb6f2da",
   "metadata": {},
   "outputs": [],
   "source": [
    "x,y = simple_uniform(f,N,range,rho)"
   ]
  },
  {
   "cell_type": "code",
   "execution_count": 104,
   "id": "7359901d-b33a-48e9-8b7d-f9c9ca323b76",
   "metadata": {},
   "outputs": [
    {
     "data": {
      "text/plain": [
       "<function matplotlib.pyplot.show(close=None, block=None)>"
      ]
     },
     "execution_count": 104,
     "metadata": {},
     "output_type": "execute_result"
    },
    {
     "data": {
      "image/png": "[encoded data removed]",
      "text/plain": [
       "<Figure size 640x480 with 1 Axes>"
      ]
     },
     "metadata": {},
     "output_type": "display_data"
    }
   ],
   "source": [
    "import matplotlib.pyplot as plt \n",
    "plt.scatter(x,y)\n",
    "plt.xlabel('x-axis')\n",
    "plt.ylabel('y-axis')\n",
    "plt.title(\"Test\")\n",
    "\n",
    "plt.show\n"
   ]
  },
  {
   "cell_type": "code",
   "execution_count": 86,
   "id": "ba3dcffd-2b46-4e2b-97ea-8cd79afa4b75",
   "metadata": {},
   "outputs": [
    {
     "data": {
      "text/plain": [
       "2"
      ]
     },
     "execution_count": 86,
     "metadata": {},
     "output_type": "execute_result"
    }
   ],
   "source": [
    "b"
   ]
  },
  {
   "cell_type": "code",
   "execution_count": null,
   "id": "d2c4ca21-43c6-4ceb-9f09-902b6ee423dc",
   "metadata": {},
   "outputs": [],
   "source": []
  }
 ],
 "metadata": {
  "kernelspec": {
   "display_name": "Python 3 (ipykernel)",
   "language": "python",
   "name": "python3"
  },
  "language_info": {
   "codemirror_mode": {
    "name": "ipython",
    "version": 3
   },
   "file_extension": ".py",
   "mimetype": "text/x-python",
   "name": "python",
   "nbconvert_exporter": "python",
   "pygments_lexer": "ipython3",
   "version": "3.11.3"
  }
 },
 "nbformat": 4,
 "nbformat_minor": 5
}
