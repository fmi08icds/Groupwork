{
 "cells": [
  {
   "cell_type": "code",
   "execution_count": 2,
   "id": "7903d3b8-c29b-4730-b262-6277c7afa655",
   "metadata": {
    "tags": []
   },
   "outputs": [],
   "source": [
    "# See README for in-depth explanation of this notebook"
   ]
  },
  {
   "cell_type": "code",
   "execution_count": 3,
   "id": "5aacd3cb-70f1-483b-b870-d77d4e8ee6fe",
   "metadata": {
    "tags": []
   },
   "outputs": [],
   "source": [
    "import numpy as np \n",
    "\n",
    "# Different methods for regression data generations (See README) \n",
    "# Start with 2D and think about scaling to n-dim \n",
    "\n",
    "\n",
    "def method_1(slope, intercept, indep_dist, dep_dist, n):\n",
    "# TODO: include a parameter to scale the data bounds.\n",
    "    \"\"\"\n",
    "    Write docstr\n",
    "    \"\"\" \n",
    "    \n",
    "    pass \n"
   ]
  },
  {
   "cell_type": "code",
   "execution_count": null,
   "id": "a2403a3a-bd50-4b99-b1f7-c4315fd927b6",
   "metadata": {},
   "outputs": [],
   "source": []
  }
 ],
 "metadata": {
  "kernelspec": {
   "display_name": "Python 3 (ipykernel)",
   "language": "python",
   "name": "python3"
  },
  "language_info": {
   "codemirror_mode": {
    "name": "ipython",
    "version": 3
   },
   "file_extension": ".py",
   "mimetype": "text/x-python",
   "name": "python",
   "nbconvert_exporter": "python",
   "pygments_lexer": "ipython3",
   "version": "3.10.9"
  }
 },
 "nbformat": 4,
 "nbformat_minor": 5
}
