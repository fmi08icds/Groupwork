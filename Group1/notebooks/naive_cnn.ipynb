{
 "cells": [
  {
   "cell_type": "code",
   "execution_count": 1,
   "metadata": {},
   "outputs": [],
   "source": [
    "# import libraries\n",
    "import numpy as np\n",
    "import cv2 as cv"
   ]
  },
  {
   "cell_type": "code",
   "execution_count": 2,
   "metadata": {},
   "outputs": [
    {
     "name": "stdout",
     "output_type": "stream",
     "text": [
      "(1858, 2090)\n"
     ]
    }
   ],
   "source": [
    "# read in single test image\n",
    "img = cv.imread(\"/home/leo/Documents/UNI/ICDS/Groupwork/Group1/data/test/normal/IM-0115-0001.jpeg\", cv.IMREAD_GRAYSCALE)\n",
    "print(img.shape)"
   ]
  },
  {
   "cell_type": "code",
   "execution_count": 61,
   "metadata": {},
   "outputs": [],
   "source": [
    "class conv_layer:\n",
    "    def __init__(self, in_dim, conv_size=(3,3), conv_num=4):\n",
    "        self.conv_size = conv_size\n",
    "        self.conv_num = conv_num\n",
    "        self.conv_kernels = [None] * self.conv_num\n",
    "        for i in range(0, self.conv_num):\n",
    "            self.conv_kernels[i] = np.empty(conv_size)\n",
    "        self.in_dim = in_dim\n",
    "        self.out_dim = ( self.conv_num, self.in_dim[0] - (conv_size[0] - 1), self.in_dim[1] - (self.conv_size[1] - 1))\n",
    "        \n",
    "    def forward(self, img):\n",
    "        out_img = np.empty(self.out_dim)\n",
    "        for i in range(0, self.conv_num):\n",
    "            for ii in range(0, self.out_dim[0]):\n",
    "                for iii in range(0, self.out_dim[1]):\n",
    "                    out_img[i, ii, iii] = np.sum(img[ii:ii+self.conv_size[0], iii:iii+self.conv_size[1]] * self.conv_kernels[i])\n",
    "        return out_img\n",
    "    \n",
    "    def get_out_dim(self):\n",
    "        return self.out_dim"
   ]
  },
  {
   "cell_type": "code",
   "execution_count": 68,
   "metadata": {},
   "outputs": [
    {
     "name": "stdout",
     "output_type": "stream",
     "text": [
      "input before conv\n",
      "[[ 0.  1.  2.  3.  4.  5.]\n",
      " [ 6.  7.  8.  9. 10. 11.]\n",
      " [12. 13. 14. 15. 16. 17.]\n",
      " [18. 19. 20. 21. 22. 23.]\n",
      " [24. 25. 26. 27. 28. 29.]\n",
      " [30. 31. 32. 33. 34. 35.]]\n",
      "expected out dim\n",
      "(3, 4, 4)\n",
      "output conv shape\n",
      "(3, 4, 4)\n",
      "output conv\n",
      "[[[2.52420000e+004 2.76230000e+004 3.00040000e+004 3.23850000e+004]\n",
      "  [3.95280000e+004 4.19090000e+004 4.42900000e+004 4.66710000e+004]\n",
      "  [5.38140000e+004 5.61950000e+004 5.85760000e+004 6.09570000e+004]\n",
      "  [1.20000000e+001 1.30000000e+001 1.40000000e+001 1.50000000e+001]]\n",
      "\n",
      " [[0.00000000e+000 2.44616802e-316 4.89233605e-316 7.33850407e-316]\n",
      "  [1.46770081e-315 1.71231762e-315 1.95693442e-315 2.20155122e-315]\n",
      "  [2.93540163e-315 3.18001843e-315 3.42463523e-315 3.66925204e-315]\n",
      "  [1.20000000e+001 1.30000000e+001 1.40000000e+001 1.50000000e+001]]\n",
      "\n",
      " [[0.00000000e+000 2.44613957e-316 4.89227913e-316 7.33841870e-316]\n",
      "  [1.46768374e-315 1.71229770e-315 1.95691165e-315 2.20152561e-315]\n",
      "  [2.93536748e-315 3.17998144e-315 3.42459539e-315 3.66920935e-315]\n",
      "  [1.20000000e+001 1.30000000e+001 1.40000000e+001 1.50000000e+001]]]\n"
     ]
    }
   ],
   "source": [
    "# test conv layer\n",
    "a = np.zeros((6,6))\n",
    "index = 0\n",
    "for i in range(0,a.shape[0]):\n",
    "    for ii in range(0,a.shape[1]):\n",
    "        a[i, ii] = index\n",
    "        index += 1\n",
    "\n",
    "print(\"input before conv\")\n",
    "print(a)\n",
    "c = conv_layer(in_dim=a.shape, conv_size=(3,3), conv_num=3)\n",
    "print(\"expected out dim\")\n",
    "print(c.get_out_dim())\n",
    "d = c.forward(a)\n",
    "print(\"output conv shape\")\n",
    "print(d.shape)\n",
    "print(\"output conv\")\n",
    "print(d)\n"
   ]
  },
  {
   "cell_type": "code",
   "execution_count": 75,
   "metadata": {},
   "outputs": [],
   "source": [
    "class max_pooling_layer:\n",
    "    def __init__(self, in_dim, pooling_size=(3,3)):\n",
    "        self.pooling_size = pooling_size\n",
    "        self.in_dim = in_dim\n",
    "        self.out_dim = (self.in_dim[0], self.in_dim[1] - (self.pooling_size[0] - 1), self.in_dim[2] - (self.pooling_size[1] - 1))\n",
    "        \n",
    "    def forward(self, img):\n",
    "        out_img = np.empty(self.out_dim)\n",
    "        \n",
    "        for i in range(0, self.out_dim[2]):\n",
    "            for ii in range(0, self.out_dim[0]):\n",
    "                for iii in range(0, self.out_dim[1]):\n",
    "                    out_img[ii,iii] = np.max(img[ii:ii+self.pooling_size[0], iii:iii+self.pooling_size[1], i])\n",
    "        return out_img"
   ]
  },
  {
   "cell_type": "code",
   "execution_count": 76,
   "metadata": {},
   "outputs": [
    {
     "name": "stdout",
     "output_type": "stream",
     "text": [
      "input before pool\n",
      "[[[ 0.  1.  2.  3.  4.]\n",
      "  [ 5.  6.  7.  8.  9.]\n",
      "  [10. 11. 12. 13. 14.]\n",
      "  [15. 16. 17. 18. 19.]\n",
      "  [20. 21. 22. 23. 24.]]\n",
      "\n",
      " [[ 0.  1.  2.  3.  4.]\n",
      "  [ 5.  6.  7.  8.  9.]\n",
      "  [10. 11. 12. 13. 14.]\n",
      "  [15. 16. 17. 18. 19.]\n",
      "  [20. 21. 22. 23. 24.]]\n",
      "\n",
      " [[ 0.  1.  2.  3.  4.]\n",
      "  [ 5.  6.  7.  8.  9.]\n",
      "  [10. 11. 12. 13. 14.]\n",
      "  [15. 16. 17. 18. 19.]\n",
      "  [20. 21. 22. 23. 24.]]]\n",
      "output pool\n",
      "[[[12. 12. 12.]\n",
      "  [17. 17. 17.]\n",
      "  [22. 22. 22.]]\n",
      "\n",
      " [[12. 12. 12.]\n",
      "  [17. 17. 17.]\n",
      "  [22. 22. 22.]]\n",
      "\n",
      " [[12. 12. 12.]\n",
      "  [17. 17. 17.]\n",
      "  [22. 22. 22.]]]\n"
     ]
    }
   ],
   "source": [
    "# test pool layer\n",
    "a = np.zeros((3, 5, 5))\n",
    "index = 0\n",
    "for i in range(0,a.shape[1]):\n",
    "    for ii in range(0,a.shape[2]):\n",
    "        a[:, i, ii] = index\n",
    "        index += 1\n",
    "print(\"input before pool\")\n",
    "print(a)\n",
    "c = max_pooling_layer(in_dim=a.shape, pooling_size=(3,3))\n",
    "d = c.forward(a)\n",
    "print(\"output pool\")\n",
    "print(d)"
   ]
  },
  {
   "cell_type": "code",
   "execution_count": 88,
   "metadata": {},
   "outputs": [],
   "source": [
    "# currently only ReLU activation function hardcoded\n",
    "class activation_layer:\n",
    "    def __init__(self, in_dim):\n",
    "        self.in_dim = in_dim\n",
    "\n",
    "    def forward(self, img):\n",
    "        out_img = np.stack(np.vectorize(self.relu)(img), axis=0)\n",
    "        return out_img\n",
    "\n",
    "    def relu(self, el):\n",
    "        return(np.maximum(0, el))"
   ]
  },
  {
   "cell_type": "code",
   "execution_count": 93,
   "metadata": {},
   "outputs": [
    {
     "name": "stdout",
     "output_type": "stream",
     "text": [
      "input before activation\n",
      "[[[-4. -3. -2.]\n",
      "  [-1.  0.  1.]\n",
      "  [ 2.  3.  4.]]\n",
      "\n",
      " [[-4. -3. -2.]\n",
      "  [-1.  0.  1.]\n",
      "  [ 2.  3.  4.]]]\n",
      "[[[0. 0. 0.]\n",
      "  [0. 0. 1.]\n",
      "  [2. 3. 4.]]\n",
      "\n",
      " [[0. 0. 0.]\n",
      "  [0. 0. 1.]\n",
      "  [2. 3. 4.]]]\n"
     ]
    }
   ],
   "source": [
    "# test activation layer\n",
    "a = np.zeros((2, 3, 3))\n",
    "index = -4\n",
    "for i in range(0,a.shape[1]):\n",
    "    for ii in range(0,a.shape[2]):\n",
    "        a[:, i, ii] = index\n",
    "        index += 1\n",
    "print(\"input before activation\")\n",
    "print(a)\n",
    "r = activation_layer(a.shape)\n",
    "b = r.forward(a)\n",
    "print(b)\n"
   ]
  },
  {
   "cell_type": "code",
   "execution_count": null,
   "metadata": {},
   "outputs": [],
   "source": [
    "class fully_connected_layer:\n",
    "    def __init__(self, in_dim):\n",
    "        pass"
   ]
  },
  {
   "cell_type": "code",
   "execution_count": null,
   "metadata": {},
   "outputs": [],
   "source": [
    "# test them in succesion\n",
    "\n"
   ]
  }
 ],
 "metadata": {
  "kernelspec": {
   "display_name": "ICDS",
   "language": "python",
   "name": "python3"
  },
  "language_info": {
   "codemirror_mode": {
    "name": "ipython",
    "version": 3
   },
   "file_extension": ".py",
   "mimetype": "text/x-python",
   "name": "python",
   "nbconvert_exporter": "python",
   "pygments_lexer": "ipython3",
   "version": "3.11.3"
  },
  "orig_nbformat": 4
 },
 "nbformat": 4,
 "nbformat_minor": 2
}
