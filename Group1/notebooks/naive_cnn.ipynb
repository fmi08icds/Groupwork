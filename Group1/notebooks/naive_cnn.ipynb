{
 "cells": [
  {
   "cell_type": "code",
   "execution_count": 1,
   "metadata": {},
   "outputs": [],
   "source": [
    "# import libraries\n",
    "import numpy as np\n",
    "import cv2 as cv"
   ]
  },
  {
   "cell_type": "code",
   "execution_count": 2,
   "metadata": {},
   "outputs": [
    {
     "name": "stdout",
     "output_type": "stream",
     "text": [
      "(1858, 2090)\n"
     ]
    }
   ],
   "source": [
    "# read in single test image\n",
    "img = cv.imread(\"/home/leo/Documents/UNI/ICDS/Groupwork/Group1/data/test/normal/IM-0115-0001.jpeg\", cv.IMREAD_GRAYSCALE)\n",
    "print(img.shape)"
   ]
  },
  {
   "cell_type": "code",
   "execution_count": 7,
   "metadata": {},
   "outputs": [],
   "source": [
    "class conv_layer:\n",
    "    def __init__(self, in_dim, conv_size=(3,3), conv_num=4):\n",
    "        self.conv_size = conv_size\n",
    "        self.conv_kernels = []\n",
    "        for i in range(0, conv_num):\n",
    "            self.conv_kernels[i] = np.empty(conv_size)\n",
    "        self.in_dim = in_dim\n",
    "        self.out_dim = (in_dim[0] - (conv_size[0] - 1), in_dim[1] - (conv_size[1] - 1, conv_num))\n",
    "        \n",
    "    def forward(self, img):\n",
    "        out_img = np.empty(self.out_dim)\n",
    "        for i in range(0, len(self.conv_kernels)):\n",
    "            for ii in range(0, self.out_dim[0]):\n",
    "                for iii in range(0, self.out_dim[1]):\n",
    "                    out_img[ii,iii, len(self.conv_kernels)] = np.sum(img[ii:ii+self.conv_size[0], iii:iii+self.conv_size[1]] * self.conv[i])\n",
    "        return out_img"
   ]
  },
  {
   "cell_type": "code",
   "execution_count": 4,
   "metadata": {},
   "outputs": [],
   "source": [
    "class pooling_layer:\n",
    "    def __init__(self, in_dim, pooling_size=(3,3)):\n",
    "        self.pooling_size = pooling_size\n",
    "        self.in_dim = in_dim\n",
    "        self.out_dim = (in_dim[0] - (pooling_size[0] - 1), in_dim[1] - (pooling_size[1] - 1))\n",
    "        \n",
    "    def forward(self, img):\n",
    "        out_img = np.empty(self.out_dim)\n",
    "        for i in range(0, self.out_dim[0]):\n",
    "            for ii in range(0, self.out_dim[1]):\n",
    "                out_img[i,ii] = np.max(img[i:i+self.pooling_size[0], ii:ii+self.pooling_size[1]])\n",
    "        return out_img"
   ]
  },
  {
   "cell_type": "code",
   "execution_count": null,
   "metadata": {},
   "outputs": [],
   "source": [
    "class linear_layer:\n",
    "    def __init__(self, in_dim):\n",
    "        pass"
   ]
  },
  {
   "cell_type": "code",
   "execution_count": 8,
   "metadata": {},
   "outputs": [
    {
     "name": "stdout",
     "output_type": "stream",
     "text": [
      "input before pool\n",
      "[[ 0.  1.  2.  3.]\n",
      " [ 4.  5.  6.  7.]\n",
      " [ 8.  9. 10. 11.]\n",
      " [12. 13. 14. 15.]]\n",
      "output pool\n",
      "[[10. 11.]\n",
      " [14. 15.]]\n"
     ]
    }
   ],
   "source": [
    "# test conv layer\n",
    "a = np.zeros((4,4))\n",
    "index = 0\n",
    "for ii in range(0,a.shape[0]):\n",
    "    for iii in range(0,a.shape[1]):\n",
    "        a[ii, iii] = index\n",
    "        index += 1\n",
    "\n",
    "print(\"input before pool\")\n",
    "print(a)\n",
    "c = pooling_layer((4,4))\n",
    "d = c.forward(a)\n",
    "print(\"output pool\")\n",
    "print(d)"
   ]
  },
  {
   "cell_type": "code",
   "execution_count": 9,
   "metadata": {},
   "outputs": [
    {
     "name": "stdout",
     "output_type": "stream",
     "text": [
      "input before conv\n",
      "[[12.  0.  0.  0.]\n",
      " [ 0. 13.  0.  0.]\n",
      " [ 0.  0. 14.  0.]\n",
      " [ 0.  0.  0. 15.]]\n"
     ]
    },
    {
     "ename": "IndexError",
     "evalue": "list assignment index out of range",
     "output_type": "error",
     "traceback": [
      "\u001b[0;31m---------------------------------------------------------------------------\u001b[0m",
      "\u001b[0;31mIndexError\u001b[0m                                Traceback (most recent call last)",
      "Cell \u001b[0;32mIn[9], line 11\u001b[0m\n\u001b[1;32m      9\u001b[0m \u001b[39mprint\u001b[39m(\u001b[39m\"\u001b[39m\u001b[39minput before conv\u001b[39m\u001b[39m\"\u001b[39m)\n\u001b[1;32m     10\u001b[0m \u001b[39mprint\u001b[39m(a)\n\u001b[0;32m---> 11\u001b[0m c \u001b[39m=\u001b[39m conv_layer((\u001b[39m4\u001b[39;49m,\u001b[39m4\u001b[39;49m))\n\u001b[1;32m     12\u001b[0m d \u001b[39m=\u001b[39m c\u001b[39m.\u001b[39mforward(a)\n\u001b[1;32m     13\u001b[0m \u001b[39mprint\u001b[39m(\u001b[39m\"\u001b[39m\u001b[39moutput conv\u001b[39m\u001b[39m\"\u001b[39m)\n",
      "Cell \u001b[0;32mIn[7], line 6\u001b[0m, in \u001b[0;36mconv_layer.__init__\u001b[0;34m(self, in_dim, conv_size, conv_num)\u001b[0m\n\u001b[1;32m      4\u001b[0m \u001b[39mself\u001b[39m\u001b[39m.\u001b[39mconv_kernels \u001b[39m=\u001b[39m []\n\u001b[1;32m      5\u001b[0m \u001b[39mfor\u001b[39;00m i \u001b[39min\u001b[39;00m \u001b[39mrange\u001b[39m(\u001b[39m0\u001b[39m, conv_num):\n\u001b[0;32m----> 6\u001b[0m     \u001b[39mself\u001b[39;49m\u001b[39m.\u001b[39;49mconv_kernels[i] \u001b[39m=\u001b[39m np\u001b[39m.\u001b[39mempty(conv_size)\n\u001b[1;32m      7\u001b[0m \u001b[39mself\u001b[39m\u001b[39m.\u001b[39min_dim \u001b[39m=\u001b[39m in_dim\n\u001b[1;32m      8\u001b[0m \u001b[39mself\u001b[39m\u001b[39m.\u001b[39mout_dim \u001b[39m=\u001b[39m (in_dim[\u001b[39m0\u001b[39m] \u001b[39m-\u001b[39m (conv_size[\u001b[39m0\u001b[39m] \u001b[39m-\u001b[39m \u001b[39m1\u001b[39m), in_dim[\u001b[39m1\u001b[39m] \u001b[39m-\u001b[39m (conv_size[\u001b[39m1\u001b[39m] \u001b[39m-\u001b[39m \u001b[39m1\u001b[39m, conv_num))\n",
      "\u001b[0;31mIndexError\u001b[0m: list assignment index out of range"
     ]
    }
   ],
   "source": [
    "# test conv layer\n",
    "a = np.zeros((4,4))\n",
    "index = 0\n",
    "for ii in range(0,a.shape[0]):\n",
    "    for ii in range(0,a.shape[1]):\n",
    "        a[ii, ii] = index\n",
    "        index += 1\n",
    "\n",
    "print(\"input before conv\")\n",
    "print(a)\n",
    "c = conv_layer((4,4))\n",
    "d = c.forward(a)\n",
    "print(\"output conv\")\n",
    "print(d)"
   ]
  },
  {
   "cell_type": "code",
   "execution_count": null,
   "metadata": {},
   "outputs": [],
   "source": [
    "# test them in succesion\n",
    "\n"
   ]
  }
 ],
 "metadata": {
  "kernelspec": {
   "display_name": "ICDS",
   "language": "python",
   "name": "python3"
  },
  "language_info": {
   "codemirror_mode": {
    "name": "ipython",
    "version": 3
   },
   "file_extension": ".py",
   "mimetype": "text/x-python",
   "name": "python",
   "nbconvert_exporter": "python",
   "pygments_lexer": "ipython3",
   "version": "3.11.3"
  },
  "orig_nbformat": 4
 },
 "nbformat": 4,
 "nbformat_minor": 2
}
