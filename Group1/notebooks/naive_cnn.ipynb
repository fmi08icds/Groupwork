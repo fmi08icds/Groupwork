{
 "cells": [
  {
   "cell_type": "code",
   "execution_count": 103,
   "metadata": {},
   "outputs": [],
   "source": [
    "# import libraries\n",
    "import numpy as np\n",
    "import cv2 as cv"
   ]
  },
  {
   "cell_type": "code",
   "execution_count": 128,
   "metadata": {},
   "outputs": [
    {
     "name": "stdout",
     "output_type": "stream",
     "text": [
      "(1858, 2090)\n"
     ]
    }
   ],
   "source": [
    "# read in single test image\n",
    "img = cv.imread(\"/home/leo/Documents/UNI/ICDS/Groupwork/Group1/data/test/normal/IM-0115-0001.jpeg\", cv.IMREAD_GRAYSCALE)\n",
    "print(img.shape)"
   ]
  },
  {
   "cell_type": "code",
   "execution_count": 151,
   "metadata": {},
   "outputs": [],
   "source": [
    "class conv_layer:\n",
    "    \"\"\"\n",
    "    Convolution layer expects an input dimension (in_dim) of shape (h, w, d), where h and \n",
    "    are hight and width of images and d the number of dimensions.\n",
    "\n",
    "    in_dim -> np.array of shape (h,w,d) -> input image dimensions \n",
    "    conv_size -> tuple of shape (h, w) -> size of convolution kernel\n",
    "    kernel_num -> int -> number of kernels\n",
    "    \"\"\"\n",
    "    def __init__(self, in_dim, conv_size=(3,3), kernel_num=4, debug = False):\n",
    "        self.kernel_num = kernel_num\n",
    "        self.conv_size = conv_size\n",
    "        self.conv_kernels = [None] * self.kernel_num\n",
    "\n",
    "        for i in range(0, self.kernel_num):\n",
    "            if debug:\n",
    "                self.conv_kernels[i] = self.debug_conv((conv_size[0], conv_size[1], in_dim[2]))\n",
    "            else:\n",
    "                self.conv_kernels[i] = np.empty((conv_size[0], conv_size[1], in_dim[2]))\n",
    "\n",
    "        self.in_dim = in_dim\n",
    "        self.out_dim = (self.in_dim[0] - (conv_size[0] - 1), self.in_dim[1] - (self.conv_size[1] - 1), self.kernel_num)\n",
    "        \n",
    "    def forward(self, img):\n",
    "        out_img = np.zeros(self.out_dim)\n",
    "        for k in range(0, self.kernel_num):\n",
    "            for h in range(0, self.out_dim[0]):\n",
    "                for w in range(0, self.out_dim[1]):\n",
    "                    out_img[h, w, k] = np.sum(img[h:h+self.conv_size[0], w:w+self.conv_size[1],:] * self.conv_kernels[k])\n",
    "        return out_img\n",
    "\n",
    "    def get_out_dim(self):\n",
    "        return self.out_dim\n",
    "    \n",
    "    def debug_conv(self, size):\n",
    "        kernel = np.zeros(size)\n",
    "        for i in range(0, size[0],2):\n",
    "            kernel[i,:,:] = 1\n",
    "        return kernel\n"
   ]
  },
  {
   "cell_type": "code",
   "execution_count": 157,
   "metadata": {},
   "outputs": [
    {
     "name": "stdout",
     "output_type": "stream",
     "text": [
      "input before conv\n",
      "[[1. 1. 1. 1. 1. 1.]\n",
      " [0. 0. 0. 0. 0. 0.]\n",
      " [1. 1. 1. 1. 1. 1.]\n",
      " [0. 0. 0. 0. 0. 0.]\n",
      " [1. 1. 1. 1. 1. 1.]\n",
      " [0. 0. 0. 0. 0. 0.]]\n",
      "[[1. 0. 1. 0. 1. 0.]\n",
      " [1. 0. 1. 0. 1. 0.]\n",
      " [1. 0. 1. 0. 1. 0.]\n",
      " [1. 0. 1. 0. 1. 0.]\n",
      " [1. 0. 1. 0. 1. 0.]\n",
      " [1. 0. 1. 0. 1. 0.]]\n",
      "expected out dim\n",
      "(4, 4, 3)\n",
      "output conv shape\n",
      "(4, 4, 3)\n",
      "output conv\n",
      "[[10.  8. 10.  8.]\n",
      " [ 4.  2.  4.  2.]\n",
      " [10.  8. 10.  8.]\n",
      " [ 4.  2.  4.  2.]]\n"
     ]
    }
   ],
   "source": [
    "# test conv layer\n",
    "a = np.zeros((6,6,2))\n",
    "for w in range(0,a.shape[0], 2):\n",
    "    for h in range(0,a.shape[1]):\n",
    "        a[w, h, 0] = 1\n",
    "\n",
    "for w in range(0,a.shape[0]):\n",
    "    for h in range(0,a.shape[1], 2):\n",
    "        a[w, h, 1] = 1\n",
    "\n",
    "print(\"input before conv\")\n",
    "print(a[:,:,0])\n",
    "print(a[:,:,1])\n",
    "c = conv_layer(in_dim=a.shape, conv_size=(3,3), kernel_num=3, debug=True)\n",
    "print(\"expected out dim\")\n",
    "print(c.get_out_dim())\n",
    "d = c.forward(a)\n",
    "print(\"output conv shape\")\n",
    "print(d.shape)\n",
    "print(\"output conv\")\n",
    "print(d[:,:,1])\n"
   ]
  },
  {
   "cell_type": "code",
   "execution_count": 167,
   "metadata": {},
   "outputs": [],
   "source": [
    "class max_pooling_layer:\n",
    "    \"\"\"\n",
    "    Max pooling layer\n",
    "\n",
    "    in_dim -> np.array of shape (h,w,d) -> input image dimensions \n",
    "    pooling_size -> tuple of shape (h, w) -> size of pooling filter\n",
    "    \"\"\"\n",
    "    def __init__(self, in_dim, pooling_size=(3,3)):\n",
    "        self.pooling_size = pooling_size\n",
    "        self.in_dim = in_dim\n",
    "        self.out_dim = (self.in_dim[0] - (self.pooling_size[0] - 1), self.in_dim[1] - (self.pooling_size[1] - 1), self.in_dim[2])\n",
    "        \n",
    "    def forward(self, img):\n",
    "        out_img = np.empty(self.out_dim)\n",
    "        \n",
    "        for d in range(0, self.out_dim[2]):\n",
    "            for w in range(0, self.out_dim[0]):\n",
    "                for h in range(0, self.out_dim[1]):\n",
    "                    out_img[w,h,d] = np.max(img[w:w+self.pooling_size[0], h:h+self.pooling_size[1],d])\n",
    "        return out_img\n",
    "    \n",
    "    def get_out_dim(self):\n",
    "        return self.out_dim"
   ]
  },
  {
   "cell_type": "code",
   "execution_count": 168,
   "metadata": {},
   "outputs": [
    {
     "name": "stdout",
     "output_type": "stream",
     "text": [
      "input before pool\n",
      "[[ 0.  1.  2.  3.  4.]\n",
      " [ 5.  6.  7.  8.  9.]\n",
      " [10. 11. 12. 13. 14.]\n",
      " [15. 16. 17. 18. 19.]\n",
      " [20. 21. 22. 23. 24.]]\n",
      "output pool\n",
      "[[12. 13. 14.]\n",
      " [17. 18. 19.]\n",
      " [22. 23. 24.]]\n"
     ]
    }
   ],
   "source": [
    "# test pool layer\n",
    "a = np.zeros((5, 5, 3))\n",
    "index = 0\n",
    "for w in range(0,a.shape[0]):\n",
    "    for h in range(0,a.shape[1]):\n",
    "        a[w,h,:] = index\n",
    "        index += 1\n",
    "print(\"input before pool\")\n",
    "print(a[:,:,0])\n",
    "c = max_pooling_layer(in_dim=a.shape, pooling_size=(3,3))\n",
    "d = c.forward(a)\n",
    "print(\"output pool\")\n",
    "print(d[:,:,0])"
   ]
  },
  {
   "cell_type": "code",
   "execution_count": 109,
   "metadata": {},
   "outputs": [],
   "source": [
    "# currently only ReLU activation function hardcoded\n",
    "class activation_layer:\n",
    "    def __init__(self, in_dim):\n",
    "        self.in_dim = in_dim\n",
    "\n",
    "    def forward(self, img):\n",
    "        out_img = np.stack(np.vectorize(self.relu)(img), axis=0)\n",
    "        return out_img\n",
    "\n",
    "    def relu(self, el):\n",
    "        return(np.maximum(0, el))"
   ]
  },
  {
   "cell_type": "code",
   "execution_count": 110,
   "metadata": {},
   "outputs": [
    {
     "name": "stdout",
     "output_type": "stream",
     "text": [
      "input before activation\n",
      "[[[-4. -3. -2.]\n",
      "  [-1.  0.  1.]\n",
      "  [ 2.  3.  4.]]\n",
      "\n",
      " [[-4. -3. -2.]\n",
      "  [-1.  0.  1.]\n",
      "  [ 2.  3.  4.]]]\n",
      "[[[0. 0. 0.]\n",
      "  [0. 0. 1.]\n",
      "  [2. 3. 4.]]\n",
      "\n",
      " [[0. 0. 0.]\n",
      "  [0. 0. 1.]\n",
      "  [2. 3. 4.]]]\n"
     ]
    }
   ],
   "source": [
    "# test activation layer\n",
    "a = np.zeros((2, 3, 3))\n",
    "index = -4\n",
    "for k in range(0,a.shape[1]):\n",
    "    for h in range(0,a.shape[2]):\n",
    "        a[:, k, h] = index\n",
    "        index += 1\n",
    "print(\"input before activation\")\n",
    "print(a)\n",
    "r = activation_layer(a.shape)\n",
    "b = r.forward(a)\n",
    "print(b)\n"
   ]
  },
  {
   "cell_type": "code",
   "execution_count": 116,
   "metadata": {},
   "outputs": [],
   "source": [
    "class fully_connected_layer:\n",
    "    def __init__(self, in_dim, out_dim):\n",
    "        self.in_dim = in_dim\n",
    "        self.out_dim = out_dim\n",
    "        w_dim = 1\n",
    "        for d in in_dim:\n",
    "            w_dim = w_dim * d\n",
    "        self.weights = np.ones((self.out_dim, w_dim))\n",
    "    \n",
    "    def forward(self, img):\n",
    "        out_vec = np.zeros(self.out_dim)\n",
    "        img_vec = img.flatten()\n",
    "\n",
    "        for i in range(0, self.out_dim):\n",
    "            out_vec[i] = np.sum(img_vec * self.weights[i])\n",
    "        return out_vec"
   ]
  },
  {
   "cell_type": "code",
   "execution_count": 117,
   "metadata": {},
   "outputs": [
    {
     "name": "stdout",
     "output_type": "stream",
     "text": [
      "input before fully connected\n",
      "[[[1. 1. 1.]\n",
      "  [1. 1. 1.]\n",
      "  [1. 1. 1.]]\n",
      "\n",
      " [[1. 1. 1.]\n",
      "  [1. 1. 1.]\n",
      "  [1. 1. 1.]]]\n",
      "output pool\n",
      "[18. 18. 18.]\n"
     ]
    }
   ],
   "source": [
    "# test fully connected layer\n",
    "a = np.ones((2, 3, 3))\n",
    "\n",
    "print(\"input before fully connected\")\n",
    "print(a)\n",
    "c = fully_connected_layer(in_dim=a.shape, out_dim=3)\n",
    "d = c.forward(a)\n",
    "print(\"output pool\")\n",
    "print(d)"
   ]
  },
  {
   "cell_type": "code",
   "execution_count": 125,
   "metadata": {},
   "outputs": [
    {
     "name": "stdout",
     "output_type": "stream",
     "text": [
      "before cnn\n",
      "[[ 0.  1.  2.  3.  4.  5.]\n",
      " [ 6.  7.  8.  9. 10. 11.]\n",
      " [12. 13. 14. 15. 16. 17.]\n",
      " [18. 19. 20. 21. 22. 23.]\n",
      " [24. 25. 26. 27. 28. 29.]\n",
      " [30. 31. 32. 33. 34. 35.]]\n",
      "after conv\n",
      "[[[9.145300e+05 1.007242e+06 1.099954e+06 1.192666e+06]\n",
      "  [1.470802e+06 1.563514e+06 1.656226e+06 1.748938e+06]\n",
      "  [2.027074e+06 2.119786e+06 2.212498e+06 2.305210e+06]\n",
      "  [2.583346e+06 2.676058e+06 2.768770e+06 2.861482e+06]]\n",
      "\n",
      " [[1.320000e+03 1.482000e+03 1.644000e+03 1.806000e+03]\n",
      "  [2.292000e+03 2.454000e+03 2.616000e+03 2.778000e+03]\n",
      "  [3.264000e+03 3.426000e+03 3.588000e+03 3.750000e+03]\n",
      "  [4.236000e+03 4.398000e+03 4.560000e+03 4.722000e+03]]]\n",
      "after activation\n",
      "[[[9.145300e+05 1.007242e+06 1.099954e+06 1.192666e+06]\n",
      "  [1.470802e+06 1.563514e+06 1.656226e+06 1.748938e+06]\n",
      "  [2.027074e+06 2.119786e+06 2.212498e+06 2.305210e+06]\n",
      "  [2.583346e+06 2.676058e+06 2.768770e+06 2.861482e+06]]\n",
      "\n",
      " [[1.320000e+03 1.482000e+03 1.644000e+03 1.806000e+03]\n",
      "  [2.292000e+03 2.454000e+03 2.616000e+03 2.778000e+03]\n",
      "  [3.264000e+03 3.426000e+03 3.588000e+03 3.750000e+03]\n",
      "  [4.236000e+03 4.398000e+03 4.560000e+03 4.722000e+03]]]\n",
      "after pooling\n",
      "[[[2212498. 2305210.]\n",
      "  [2768770. 2861482.]]\n",
      "\n",
      " [[   3588.    3750.]\n",
      "  [   4560.    4722.]]]\n",
      "after fully connected\n",
      "[10164580. 10164580.]\n"
     ]
    }
   ],
   "source": [
    "# test them in succession\n",
    "\n",
    "img = np.ones((6, 6))\n",
    "index = 0\n",
    "for k in range(0,img.shape[0]):\n",
    "    for h in range(0,img.shape[1]):\n",
    "        img[k, h] = index\n",
    "        index += 1\n",
    "\n",
    "c1 = conv_layer(in_dim=img.shape, conv_size=(3,3), kernel_num=2)\n",
    "a1 = activation_layer(in_dim=c1.get_out_dim())\n",
    "p1 = max_pooling_layer(in_dim=c1.get_out_dim(), pooling_size=(3,3))\n",
    "f1 = fully_connected_layer(in_dim=p1.get_out_dim(), out_dim=2)\n",
    "print(\"before cnn\")\n",
    "print(img)\n",
    "k = c1.forward(img)\n",
    "print(\"after conv\")\n",
    "print(k)\n",
    "k = a1.forward(k)\n",
    "print(\"after activation\")\n",
    "print(k)\n",
    "k = p1.forward(k)\n",
    "print(\"after pooling\")\n",
    "print(k)\n",
    "k = f1.forward(k)\n",
    "print(\"after fully connected\")\n",
    "print(k)\n",
    "\n"
   ]
  }
 ],
 "metadata": {
  "kernelspec": {
   "display_name": "ICDS",
   "language": "python",
   "name": "python3"
  },
  "language_info": {
   "codemirror_mode": {
    "name": "ipython",
    "version": 3
   },
   "file_extension": ".py",
   "mimetype": "text/x-python",
   "name": "python",
   "nbconvert_exporter": "python",
   "pygments_lexer": "ipython3",
   "version": "3.11.3"
  },
  "orig_nbformat": 4
 },
 "nbformat": 4,
 "nbformat_minor": 2
}
