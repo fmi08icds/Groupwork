{
 "cells": [
  {
   "cell_type": "code",
   "execution_count": 2,
   "metadata": {},
   "outputs": [],
   "source": [
    "import os\n",
    "import shutil\n",
    "import numpy as np\n",
    "\n",
    "import cv2 as cv\n",
    "import torch"
   ]
  },
  {
   "cell_type": "code",
   "execution_count": 4,
   "metadata": {},
   "outputs": [],
   "source": [
    "data_files_path = '../data/chest_xray/'\n",
    "data_files_train_split_path = ['train', 'test', 'val']\n",
    "\n",
    "ratio_train = 0.7\n",
    "ratio_test = 0.2\n",
    "ratio_val = 0.1"
   ]
  },
  {
   "cell_type": "code",
   "execution_count": null,
   "metadata": {},
   "outputs": [],
   "source": [
    "def data_folder_init(data_files_path):\n",
    "    if os.path.exists(os.path.join(data_files_path, '__MACOSX')) and os.path.isdir(os.path.join(data_files_path, '__MACOSX')):\n",
    "        shutil.rmtree(os.path.join(data_files_path, '__MACOSX'))\n",
    "    if os.path.exists(os.path.join(data_files_path, 'chest_xray')) and os.path.isdir(os.path.join(data_files_path, 'chest_xray')):\n",
    "        shutil.rmtree(os.path.join(data_files_path, 'chest_xray'))\n",
    "    if os.path.exists(os.path.join(data_files_path, 'test')) and os.path.isdir(os.path.join(data_files_path, 'test')):\n",
    "        shutil.rmtree(os.path.join(data_files_path, 'test'))\n",
    "    if os.path.exists(os.path.join(data_files_path, 'val')) and os.path.isdir(os.path.join(data_files_path, 'val')):\n",
    "        shutil.rmtree(os.path.join(data_files_path, 'val'))\n",
    "    \n",
    "    if not os.path.exists(os.path.join(data_files_path, 'normal')) and not os.path.exists(os.path.join(data_files_path, 'pneumonia')):\n",
    "        shutil.move(os.path.join(data_files_path, 'train/normal'), os.path.join(data_files_path, 'normal'))\n",
    "        shutil.move(os.path.join(data_files_path, 'train/pneumonia'), os.path.join(data_files_path, 'pneumonia'))\n",
    "    if os.path.exists(os.path.join(data_files_path, 'train')) and os.path.isdir(os.path.join(data_files_path, 'train')):\n",
    "        shutil.rmtree(os.path.join(data_files_path, 'train'))\n",
    "\n",
    "    bacteria_folder = os.path.join(data_files_path, 'pneumonia/bacteria')\n",
    "    if not os.path.exists(os.path.join(data_files_path, 'pneumonia/bacteria')):\n",
    "        os.makedirs(bacteria_folder, exist_ok=True)\n",
    "        \n",
    "    virus_folder = os.path.join(data_files_path, 'pneumonia/virus')\n",
    "    if not os.path.exists(os.path.join(data_files_path, 'pneumonia/virus')):\n",
    "        os.makedirs(virus_folder, exist_ok=True)\n",
    "\n",
    "    for filename in os.listdir(os.path.join(data_files_path, 'pneumonia')):\n",
    "        file_path = os.path.join(data_files_path, 'pneumonia', filename)\n",
    "        if os.path.isfile(file_path):\n",
    "            if 'bacteria' in filename.lower():\n",
    "                shutil.move(file_path, os.path.join(bacteria_folder, filename))\n",
    "            elif 'virus' in filename.lower():\n",
    "                shutil.move(file_path, os.path.join(virus_folder, filename))\n",
    "\n",
    "def data_folder_train_split(data_files_path, ratio_train, ratio_test, ratio_val):\n",
    "    "
   ]
  },
  {
   "cell_type": "code",
   "execution_count": null,
   "metadata": {},
   "outputs": [],
   "source": [
    "data_folder_init(data_files_path)"
   ]
  },
  {
   "cell_type": "code",
   "execution_count": 5,
   "metadata": {},
   "outputs": [
    {
     "name": "stdout",
     "output_type": "stream",
     "text": [
      "train\n",
      "test\n",
      "val\n"
     ]
    }
   ],
   "source": [
    "for i in data_files_train_split_path:\n",
    "    "
   ]
  }
 ],
 "metadata": {
  "kernelspec": {
   "display_name": "icds",
   "language": "python",
   "name": "python3"
  },
  "language_info": {
   "codemirror_mode": {
    "name": "ipython",
    "version": 3
   },
   "file_extension": ".py",
   "mimetype": "text/x-python",
   "name": "python",
   "nbconvert_exporter": "python",
   "pygments_lexer": "ipython3",
   "version": "3.11.2"
  },
  "orig_nbformat": 4
 },
 "nbformat": 4,
 "nbformat_minor": 2
}
