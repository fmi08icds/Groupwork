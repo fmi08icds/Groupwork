{
 "cells": [
  {
   "cell_type": "code",
   "execution_count": 50,
   "metadata": {},
   "outputs": [],
   "source": [
    "# 1. download the data from https://www.kaggle.com/datasets/paultimothymooney/chest-xray-pneumonia\n",
    "# 2. place it into Groupwork/Group1/data\n",
    "# 3. Run this code to get the data structure that we will work with"
   ]
  },
  {
   "cell_type": "code",
   "execution_count": 51,
   "metadata": {},
   "outputs": [],
   "source": [
    "import os\n",
    "import shutil\n",
    "import random\n",
    "import numpy as np\n",
    "import cv2 as cv\n",
    "import torch"
   ]
  },
  {
   "cell_type": "code",
   "execution_count": 52,
   "metadata": {},
   "outputs": [],
   "source": [
    "data_files_path = '../data/chest_xray/'\n",
    "data_files_path_origin = '../data/chest_xray_origin/'\n",
    "data_path = '../data'\n",
    "data_files_train_split_path = ['train', 'test', 'val']\n",
    "\n",
    "ratio_train = 0.7\n",
    "ratio_test = 0.2\n",
    "ratio_val = 0.1\n",
    "\n",
    "random.seed(4)\n",
    "\n",
    "ratio_test_val = [ratio_test, ratio_val, ratio_test, ratio_val]\n",
    "source_train_folder = ['train/NORMAL', 'train/NORMAL', 'train/PNEUMONIA', 'train/PNEUMONIA']\n",
    "target_test_val_folder = ['test/NORMAL', 'val/NORMAL', 'test/PNEUMONIA', 'val/PNEUMONIA']"
   ]
  },
  {
   "cell_type": "code",
   "execution_count": 53,
   "metadata": {},
   "outputs": [],
   "source": [
    "def data_folder_init(data_path, data_files_path_origin):\n",
    "    '''\n",
    "    '''\n",
    "    os.rename(data_path, data_files_path_origin)\n",
    "\n",
    "    for file_name in os.listdir(data_files_path_origin):\n",
    "        source = os.path.join(data_files_path_origin, file_name)\n",
    "        target = os.path.join(data_path, file_name)\n",
    "        shutil.move(source, target)\n",
    "\n",
    "    shutil.rmtree(data_files_path_origin)\n",
    "\n",
    "    if os.path.exists(os.path.join(data_path, '__MACOSX')) and os.path.isdir(os.path.join(data_path, '__MACOSX')):\n",
    "        shutil.rmtree(os.path.join(data_path, '__MACOSX'))\n",
    "    if os.path.exists(os.path.join(data_path, 'chest_xray')) and os.path.isdir(os.path.join(data_path, 'chest_xray')):\n",
    "        shutil.rmtree(os.path.join(data_path, 'chest_xray'))\n",
    "    if os.path.exists(os.path.join(data_path, 'test')) and os.path.isdir(os.path.join(data_path, 'test')):\n",
    "        shutil.rmtree(os.path.join(data_path, 'test'))\n",
    "    if os.path.exists(os.path.join(data_path, 'val')) and os.path.isdir(os.path.join(data_path, 'val')):\n",
    "        shutil.rmtree(os.path.join(data_path, 'val'))"
   ]
  },
  {
   "cell_type": "code",
   "execution_count": 54,
   "metadata": {},
   "outputs": [],
   "source": [
    "def data_folder_train_split(ratio_test_val, source_train_folder, target_test_val_folder):\n",
    "    '''\n",
    "    '''\n",
    "    for i in range(0, len(source_train_folder)):\n",
    "        source = os.path.join(data_path, source_train_folder[i])\n",
    "        target = os.path.join(data_path, target_test_val_folder[i])\n",
    "\n",
    "        if not os.path.exists(target):\n",
    "            os.makedirs(target)\n",
    "\n",
    "        files = os.listdir(source)\n",
    "        num_files_move = int(ratio_test_val[i] * len(files))\n",
    "        files_move = random.sample(files, num_files_move)\n",
    "        print(num_files_move)\n",
    "\n",
    "        for file_name in files_move:\n",
    "            source_f = os.path.join(source, file_name)\n",
    "            target_f = os.path.join(target, file_name)\n",
    "            shutil.move(source_f, target_f)"
   ]
  },
  {
   "cell_type": "code",
   "execution_count": null,
   "metadata": {},
   "outputs": [],
   "source": [
    "data_folder_init(data_path, data_files_path_origin)\n",
    "data_folder_train_split(ratio_test_val, source_train_folder, target_test_val_folder)"
   ]
  }
 ],
 "metadata": {
  "kernelspec": {
   "display_name": "icds",
   "language": "python",
   "name": "python3"
  },
  "language_info": {
   "codemirror_mode": {
    "name": "ipython",
    "version": 3
   },
   "file_extension": ".py",
   "mimetype": "text/x-python",
   "name": "python",
   "nbconvert_exporter": "python",
   "pygments_lexer": "ipython3",
   "version": "3.11.2"
  },
  "orig_nbformat": 4
 },
 "nbformat": 4,
 "nbformat_minor": 2
}
